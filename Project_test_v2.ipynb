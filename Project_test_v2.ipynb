{
 "cells": [
  {
   "cell_type": "code",
   "execution_count": 1,
   "metadata": {},
   "outputs": [
    {
     "name": "stdout",
     "output_type": "stream",
     "text": [
      "back,buffer_overflow,ftp_write,guess_passwd,imap,ipsweep,land,loadmodule,multihop,neptune,nmap,normal,perl,phf,pod,portsweep,rootkit,satan,smurf,spy,teardrop,warezclient,warezmaster.\n",
      "duration: continuous.\n",
      "protocol_type: symbolic.\n",
      "service: symbolic.\n",
      "flag: symbolic.\n",
      "src_bytes: continuous.\n",
      "dst_bytes: continuous.\n",
      "land: symbolic.\n",
      "wrong_fragment: continuous.\n",
      "urgent: continuous.\n",
      "hot: continuous.\n",
      "num_failed_logins: continuous.\n",
      "logged_in: symbolic.\n",
      "num_compromised: continuous.\n",
      "root_shell: continuous.\n",
      "su_attempted: continuous.\n",
      "num_root: continuous.\n",
      "num_file_creations: continuous.\n",
      "num_shells: continuous.\n",
      "num_access_files: continuous.\n",
      "num_outbound_cmds: continuous.\n",
      "is_host_login: symbolic.\n",
      "is_guest_login: symbolic.\n",
      "count: continuous.\n",
      "srv_count: continuous.\n",
      "serror_rate: continuous.\n",
      "srv_serror_rate: continuous.\n",
      "rerror_rate: continuous.\n",
      "srv_rerror_rate: continuous.\n",
      "same_srv_rate: continuous.\n",
      "diff_srv_rate: continuous.\n",
      "srv_diff_host_rate: continuous.\n",
      "dst_host_count: continuous.\n",
      "dst_host_srv_count: continuous.\n",
      "dst_host_same_srv_rate: continuous.\n",
      "dst_host_diff_srv_rate: continuous.\n",
      "dst_host_same_src_port_rate: continuous.\n",
      "dst_host_srv_diff_host_rate: continuous.\n",
      "dst_host_serror_rate: continuous.\n",
      "dst_host_srv_serror_rate: continuous.\n",
      "dst_host_rerror_rate: continuous.\n",
      "dst_host_srv_rerror_rate: continuous.\n",
      "\n"
     ]
    }
   ],
   "source": [
    "import os\n",
    "import pandas as pd\n",
    "import numpy as np\n",
    "import matplotlib.pyplot as plt\n",
    "import seaborn as sns\n",
    "import time\n",
    "import sklearn.svm\n",
    "import pickle\n",
    "from sklearn.model_selection import train_test_split\n",
    "from sklearn.preprocessing import MinMaxScaler\n",
    "from sklearn.metrics import accuracy_score\n",
    "import numpy\n",
    "import matplotlib.pyplot\n",
    "  \n",
    "with open(\"kddcup.names\", 'r') as f:\n",
    "    print(f.read())"
   ]
  },
  {
   "cell_type": "code",
   "execution_count": 2,
   "metadata": {},
   "outputs": [
    {
     "name": "stdout",
     "output_type": "stream",
     "text": [
      "42\n"
     ]
    }
   ],
   "source": [
    "cols=\"\"\"duration,\n",
    "protocol_type,\n",
    "service,\n",
    "flag,\n",
    "src_bytes,\n",
    "dst_bytes,\n",
    "land,\n",
    "wrong_fragment,\n",
    "urgent,\n",
    "hot,\n",
    "num_failed_logins,\n",
    "logged_in,\n",
    "num_compromised,\n",
    "root_shell,\n",
    "su_attempted,\n",
    "num_root,\n",
    "num_file_creations,\n",
    "num_shells,\n",
    "num_access_files,\n",
    "num_outbound_cmds,\n",
    "is_host_login,\n",
    "is_guest_login,\n",
    "count,\n",
    "srv_count,\n",
    "serror_rate,\n",
    "srv_serror_rate,\n",
    "rerror_rate,\n",
    "srv_rerror_rate,\n",
    "same_srv_rate,\n",
    "diff_srv_rate,\n",
    "srv_diff_host_rate,\n",
    "dst_host_count,\n",
    "dst_host_srv_count,\n",
    "dst_host_same_srv_rate,\n",
    "dst_host_diff_srv_rate,\n",
    "dst_host_same_src_port_rate,\n",
    "dst_host_srv_diff_host_rate,\n",
    "dst_host_serror_rate,\n",
    "dst_host_srv_serror_rate,\n",
    "dst_host_rerror_rate,\n",
    "dst_host_srv_rerror_rate\"\"\"\n",
    "\n",
    "columns=[]\n",
    "for c in cols.split(','):\n",
    "    if(c.strip()):\n",
    "       columns.append(c.strip())\n",
    "\n",
    "columns.append('target')\n",
    "print(len(columns))"
   ]
  },
  {
   "cell_type": "code",
   "execution_count": 3,
   "metadata": {},
   "outputs": [
    {
     "name": "stdout",
     "output_type": "stream",
     "text": [
      "back dos\n",
      "buffer_overflow u2r\n",
      "ftp_write r2l\n",
      "guess_passwd r2l\n",
      "imap r2l\n",
      "ipsweep probe\n",
      "land dos\n",
      "loadmodule u2r\n",
      "multihop r2l\n",
      "neptune dos\n",
      "nmap probe\n",
      "perl u2r\n",
      "phf r2l\n",
      "pod dos\n",
      "portsweep probe\n",
      "rootkit u2r\n",
      "satan probe\n",
      "smurf dos\n",
      "spy r2l\n",
      "teardrop dos\n",
      "warezclient r2l\n",
      "warezmaster r2l\n",
      "\n",
      "\n"
     ]
    }
   ],
   "source": [
    "with open(\"training_attack_types\",'r') as f:\n",
    "    print(f.read())"
   ]
  },
  {
   "cell_type": "code",
   "execution_count": 4,
   "metadata": {},
   "outputs": [],
   "source": [
    "attacks_types = {\n",
    "    'normal': 'normal',\n",
    "'back': 'dos',\n",
    "'buffer_overflow': 'u2r',\n",
    "'ftp_write': 'r2l',\n",
    "'guess_passwd': 'r2l',\n",
    "'imap': 'r2l',\n",
    "'ipsweep': 'probe',\n",
    "'land': 'dos',\n",
    "'loadmodule': 'u2r',\n",
    "'multihop': 'r2l',\n",
    "'neptune': 'dos',\n",
    "'nmap': 'probe',\n",
    "'perl': 'u2r',\n",
    "'phf': 'r2l',\n",
    "'pod': 'dos',\n",
    "'portsweep': 'probe',\n",
    "'rootkit': 'u2r',\n",
    "'satan': 'probe',\n",
    "'smurf': 'dos',\n",
    "'spy': 'r2l',\n",
    "'teardrop': 'dos',\n",
    "'warezclient': 'r2l',\n",
    "'warezmaster': 'r2l',\n",
    "}"
   ]
  },
  {
   "cell_type": "code",
   "execution_count": 5,
   "metadata": {},
   "outputs": [],
   "source": [
    "attacks_types = {\n",
    "    'normal': '1',\n",
    "'back': '2',\n",
    "'buffer_overflow': '3',\n",
    "'ftp_write': '4',\n",
    "'guess_passwd': '4',\n",
    "'imap': '4',\n",
    "'ipsweep': '5',\n",
    "'land': '2',\n",
    "'loadmodule': '3',\n",
    "'multihop': '4',\n",
    "'neptune': '2',\n",
    "'nmap': '5',\n",
    "'perl': '3',\n",
    "'phf': '4',\n",
    "'pod': '2',\n",
    "'portsweep': '5',\n",
    "'rootkit': '3',\n",
    "'satan': '5',\n",
    "'smurf': '2',\n",
    "'spy': '4',\n",
    "'teardrop': '2',\n",
    "'warezclient': '4',\n",
    "'warezmaster': '4',\n",
    "}"
   ]
  },
  {
   "cell_type": "code",
   "execution_count": 6,
   "metadata": {},
   "outputs": [
    {
     "data": {
      "text/html": [
       "<div>\n",
       "<style scoped>\n",
       "    .dataframe tbody tr th:only-of-type {\n",
       "        vertical-align: middle;\n",
       "    }\n",
       "\n",
       "    .dataframe tbody tr th {\n",
       "        vertical-align: top;\n",
       "    }\n",
       "\n",
       "    .dataframe thead th {\n",
       "        text-align: right;\n",
       "    }\n",
       "</style>\n",
       "<table border=\"1\" class=\"dataframe\">\n",
       "  <thead>\n",
       "    <tr style=\"text-align: right;\">\n",
       "      <th></th>\n",
       "      <th>duration</th>\n",
       "      <th>protocol_type</th>\n",
       "      <th>service</th>\n",
       "      <th>flag</th>\n",
       "      <th>src_bytes</th>\n",
       "      <th>dst_bytes</th>\n",
       "      <th>land</th>\n",
       "      <th>wrong_fragment</th>\n",
       "      <th>urgent</th>\n",
       "      <th>hot</th>\n",
       "      <th>...</th>\n",
       "      <th>dst_host_same_srv_rate</th>\n",
       "      <th>dst_host_diff_srv_rate</th>\n",
       "      <th>dst_host_same_src_port_rate</th>\n",
       "      <th>dst_host_srv_diff_host_rate</th>\n",
       "      <th>dst_host_serror_rate</th>\n",
       "      <th>dst_host_srv_serror_rate</th>\n",
       "      <th>dst_host_rerror_rate</th>\n",
       "      <th>dst_host_srv_rerror_rate</th>\n",
       "      <th>target</th>\n",
       "      <th>Attack Type</th>\n",
       "    </tr>\n",
       "  </thead>\n",
       "  <tbody>\n",
       "    <tr>\n",
       "      <th>0</th>\n",
       "      <td>0</td>\n",
       "      <td>tcp</td>\n",
       "      <td>http</td>\n",
       "      <td>SF</td>\n",
       "      <td>181</td>\n",
       "      <td>5450</td>\n",
       "      <td>0</td>\n",
       "      <td>0</td>\n",
       "      <td>0</td>\n",
       "      <td>0</td>\n",
       "      <td>...</td>\n",
       "      <td>1.0</td>\n",
       "      <td>0.0</td>\n",
       "      <td>0.11</td>\n",
       "      <td>0.0</td>\n",
       "      <td>0.0</td>\n",
       "      <td>0.0</td>\n",
       "      <td>0.0</td>\n",
       "      <td>0.0</td>\n",
       "      <td>normal.</td>\n",
       "      <td>1</td>\n",
       "    </tr>\n",
       "    <tr>\n",
       "      <th>1</th>\n",
       "      <td>0</td>\n",
       "      <td>tcp</td>\n",
       "      <td>http</td>\n",
       "      <td>SF</td>\n",
       "      <td>239</td>\n",
       "      <td>486</td>\n",
       "      <td>0</td>\n",
       "      <td>0</td>\n",
       "      <td>0</td>\n",
       "      <td>0</td>\n",
       "      <td>...</td>\n",
       "      <td>1.0</td>\n",
       "      <td>0.0</td>\n",
       "      <td>0.05</td>\n",
       "      <td>0.0</td>\n",
       "      <td>0.0</td>\n",
       "      <td>0.0</td>\n",
       "      <td>0.0</td>\n",
       "      <td>0.0</td>\n",
       "      <td>normal.</td>\n",
       "      <td>1</td>\n",
       "    </tr>\n",
       "    <tr>\n",
       "      <th>2</th>\n",
       "      <td>0</td>\n",
       "      <td>tcp</td>\n",
       "      <td>http</td>\n",
       "      <td>SF</td>\n",
       "      <td>235</td>\n",
       "      <td>1337</td>\n",
       "      <td>0</td>\n",
       "      <td>0</td>\n",
       "      <td>0</td>\n",
       "      <td>0</td>\n",
       "      <td>...</td>\n",
       "      <td>1.0</td>\n",
       "      <td>0.0</td>\n",
       "      <td>0.03</td>\n",
       "      <td>0.0</td>\n",
       "      <td>0.0</td>\n",
       "      <td>0.0</td>\n",
       "      <td>0.0</td>\n",
       "      <td>0.0</td>\n",
       "      <td>normal.</td>\n",
       "      <td>1</td>\n",
       "    </tr>\n",
       "    <tr>\n",
       "      <th>3</th>\n",
       "      <td>0</td>\n",
       "      <td>tcp</td>\n",
       "      <td>http</td>\n",
       "      <td>SF</td>\n",
       "      <td>219</td>\n",
       "      <td>1337</td>\n",
       "      <td>0</td>\n",
       "      <td>0</td>\n",
       "      <td>0</td>\n",
       "      <td>0</td>\n",
       "      <td>...</td>\n",
       "      <td>1.0</td>\n",
       "      <td>0.0</td>\n",
       "      <td>0.03</td>\n",
       "      <td>0.0</td>\n",
       "      <td>0.0</td>\n",
       "      <td>0.0</td>\n",
       "      <td>0.0</td>\n",
       "      <td>0.0</td>\n",
       "      <td>normal.</td>\n",
       "      <td>1</td>\n",
       "    </tr>\n",
       "    <tr>\n",
       "      <th>4</th>\n",
       "      <td>0</td>\n",
       "      <td>tcp</td>\n",
       "      <td>http</td>\n",
       "      <td>SF</td>\n",
       "      <td>217</td>\n",
       "      <td>2032</td>\n",
       "      <td>0</td>\n",
       "      <td>0</td>\n",
       "      <td>0</td>\n",
       "      <td>0</td>\n",
       "      <td>...</td>\n",
       "      <td>1.0</td>\n",
       "      <td>0.0</td>\n",
       "      <td>0.02</td>\n",
       "      <td>0.0</td>\n",
       "      <td>0.0</td>\n",
       "      <td>0.0</td>\n",
       "      <td>0.0</td>\n",
       "      <td>0.0</td>\n",
       "      <td>normal.</td>\n",
       "      <td>1</td>\n",
       "    </tr>\n",
       "  </tbody>\n",
       "</table>\n",
       "<p>5 rows × 43 columns</p>\n",
       "</div>"
      ],
      "text/plain": [
       "   duration protocol_type service flag  src_bytes  dst_bytes  land  \\\n",
       "0         0           tcp    http   SF        181       5450     0   \n",
       "1         0           tcp    http   SF        239        486     0   \n",
       "2         0           tcp    http   SF        235       1337     0   \n",
       "3         0           tcp    http   SF        219       1337     0   \n",
       "4         0           tcp    http   SF        217       2032     0   \n",
       "\n",
       "   wrong_fragment  urgent  hot  ...  dst_host_same_srv_rate  \\\n",
       "0               0       0    0  ...                     1.0   \n",
       "1               0       0    0  ...                     1.0   \n",
       "2               0       0    0  ...                     1.0   \n",
       "3               0       0    0  ...                     1.0   \n",
       "4               0       0    0  ...                     1.0   \n",
       "\n",
       "   dst_host_diff_srv_rate  dst_host_same_src_port_rate  \\\n",
       "0                     0.0                         0.11   \n",
       "1                     0.0                         0.05   \n",
       "2                     0.0                         0.03   \n",
       "3                     0.0                         0.03   \n",
       "4                     0.0                         0.02   \n",
       "\n",
       "   dst_host_srv_diff_host_rate  dst_host_serror_rate  \\\n",
       "0                          0.0                   0.0   \n",
       "1                          0.0                   0.0   \n",
       "2                          0.0                   0.0   \n",
       "3                          0.0                   0.0   \n",
       "4                          0.0                   0.0   \n",
       "\n",
       "   dst_host_srv_serror_rate  dst_host_rerror_rate  dst_host_srv_rerror_rate  \\\n",
       "0                       0.0                   0.0                       0.0   \n",
       "1                       0.0                   0.0                       0.0   \n",
       "2                       0.0                   0.0                       0.0   \n",
       "3                       0.0                   0.0                       0.0   \n",
       "4                       0.0                   0.0                       0.0   \n",
       "\n",
       "    target  Attack Type  \n",
       "0  normal.            1  \n",
       "1  normal.            1  \n",
       "2  normal.            1  \n",
       "3  normal.            1  \n",
       "4  normal.            1  \n",
       "\n",
       "[5 rows x 43 columns]"
      ]
     },
     "execution_count": 6,
     "metadata": {},
     "output_type": "execute_result"
    }
   ],
   "source": [
    "path = \"kddcup.data_10_percent.gz\"\n",
    "df = pd.read_csv(path,names=columns)\n",
    " \n",
    "df['Attack Type'] = df.target.apply(lambda r:attacks_types[r[:-1]])\n",
    "\n",
    "df.head()"
   ]
  },
  {
   "cell_type": "code",
   "execution_count": 7,
   "metadata": {},
   "outputs": [
    {
     "data": {
      "text/plain": [
       "smurf.              280790\n",
       "neptune.            107201\n",
       "normal.              97278\n",
       "back.                 2203\n",
       "satan.                1589\n",
       "ipsweep.              1247\n",
       "portsweep.            1040\n",
       "warezclient.          1020\n",
       "teardrop.              979\n",
       "pod.                   264\n",
       "nmap.                  231\n",
       "guess_passwd.           53\n",
       "buffer_overflow.        30\n",
       "land.                   21\n",
       "warezmaster.            20\n",
       "imap.                   12\n",
       "rootkit.                10\n",
       "loadmodule.              9\n",
       "ftp_write.               8\n",
       "multihop.                7\n",
       "phf.                     4\n",
       "perl.                    3\n",
       "spy.                     2\n",
       "Name: target, dtype: int64"
      ]
     },
     "execution_count": 7,
     "metadata": {},
     "output_type": "execute_result"
    }
   ],
   "source": [
    "\n",
    "df['target'].value_counts()"
   ]
  },
  {
   "cell_type": "code",
   "execution_count": 8,
   "metadata": {},
   "outputs": [
    {
     "data": {
      "text/plain": [
       "2    391458\n",
       "1     97278\n",
       "5      4107\n",
       "4      1126\n",
       "3        52\n",
       "Name: Attack Type, dtype: int64"
      ]
     },
     "execution_count": 8,
     "metadata": {},
     "output_type": "execute_result"
    }
   ],
   "source": [
    "df['Attack Type'].value_counts()\n"
   ]
  },
  {
   "cell_type": "code",
   "execution_count": 9,
   "metadata": {},
   "outputs": [
    {
     "data": {
      "text/plain": [
       "duration                         int64\n",
       "protocol_type                   object\n",
       "service                         object\n",
       "flag                            object\n",
       "src_bytes                        int64\n",
       "dst_bytes                        int64\n",
       "land                             int64\n",
       "wrong_fragment                   int64\n",
       "urgent                           int64\n",
       "hot                              int64\n",
       "num_failed_logins                int64\n",
       "logged_in                        int64\n",
       "num_compromised                  int64\n",
       "root_shell                       int64\n",
       "su_attempted                     int64\n",
       "num_root                         int64\n",
       "num_file_creations               int64\n",
       "num_shells                       int64\n",
       "num_access_files                 int64\n",
       "num_outbound_cmds                int64\n",
       "is_host_login                    int64\n",
       "is_guest_login                   int64\n",
       "count                            int64\n",
       "srv_count                        int64\n",
       "serror_rate                    float64\n",
       "srv_serror_rate                float64\n",
       "rerror_rate                    float64\n",
       "srv_rerror_rate                float64\n",
       "same_srv_rate                  float64\n",
       "diff_srv_rate                  float64\n",
       "srv_diff_host_rate             float64\n",
       "dst_host_count                   int64\n",
       "dst_host_srv_count               int64\n",
       "dst_host_same_srv_rate         float64\n",
       "dst_host_diff_srv_rate         float64\n",
       "dst_host_same_src_port_rate    float64\n",
       "dst_host_srv_diff_host_rate    float64\n",
       "dst_host_serror_rate           float64\n",
       "dst_host_srv_serror_rate       float64\n",
       "dst_host_rerror_rate           float64\n",
       "dst_host_srv_rerror_rate       float64\n",
       "target                          object\n",
       "Attack Type                     object\n",
       "dtype: object"
      ]
     },
     "execution_count": 9,
     "metadata": {},
     "output_type": "execute_result"
    }
   ],
   "source": [
    "df.dtypes\n"
   ]
  },
  {
   "cell_type": "code",
   "execution_count": 10,
   "metadata": {},
   "outputs": [
    {
     "data": {
      "text/plain": [
       "duration                       0\n",
       "protocol_type                  0\n",
       "service                        0\n",
       "flag                           0\n",
       "src_bytes                      0\n",
       "dst_bytes                      0\n",
       "land                           0\n",
       "wrong_fragment                 0\n",
       "urgent                         0\n",
       "hot                            0\n",
       "num_failed_logins              0\n",
       "logged_in                      0\n",
       "num_compromised                0\n",
       "root_shell                     0\n",
       "su_attempted                   0\n",
       "num_root                       0\n",
       "num_file_creations             0\n",
       "num_shells                     0\n",
       "num_access_files               0\n",
       "num_outbound_cmds              0\n",
       "is_host_login                  0\n",
       "is_guest_login                 0\n",
       "count                          0\n",
       "srv_count                      0\n",
       "serror_rate                    0\n",
       "srv_serror_rate                0\n",
       "rerror_rate                    0\n",
       "srv_rerror_rate                0\n",
       "same_srv_rate                  0\n",
       "diff_srv_rate                  0\n",
       "srv_diff_host_rate             0\n",
       "dst_host_count                 0\n",
       "dst_host_srv_count             0\n",
       "dst_host_same_srv_rate         0\n",
       "dst_host_diff_srv_rate         0\n",
       "dst_host_same_src_port_rate    0\n",
       "dst_host_srv_diff_host_rate    0\n",
       "dst_host_serror_rate           0\n",
       "dst_host_srv_serror_rate       0\n",
       "dst_host_rerror_rate           0\n",
       "dst_host_srv_rerror_rate       0\n",
       "target                         0\n",
       "Attack Type                    0\n",
       "dtype: int64"
      ]
     },
     "execution_count": 10,
     "metadata": {},
     "output_type": "execute_result"
    }
   ],
   "source": [
    "df.isnull().sum()\n"
   ]
  },
  {
   "cell_type": "code",
   "execution_count": 11,
   "metadata": {},
   "outputs": [
    {
     "data": {
      "text/plain": [
       "['flag', 'service', 'protocol_type']"
      ]
     },
     "execution_count": 11,
     "metadata": {},
     "output_type": "execute_result"
    }
   ],
   "source": [
    "num_cols = df._get_numeric_data().columns\n",
    "\n",
    "cate_cols = list(set(df.columns)-set(num_cols))\n",
    "cate_cols.remove('target')\n",
    "cate_cols.remove('Attack Type')\n",
    "\n",
    "cate_cols"
   ]
  },
  {
   "cell_type": "code",
   "execution_count": 12,
   "metadata": {},
   "outputs": [],
   "source": [
    "#This variable is highly correlated with num_compromised and should be ignored for analysis.\n",
    "#(Correlation = 0.9938277978738366)\n",
    "df.drop('num_root',axis = 1,inplace = True)\n",
    "\n",
    "#This variable is highly correlated with serror_rate and should be ignored for analysis.\n",
    "#(Correlation = 0.9983615072725952)\n",
    "df.drop('srv_serror_rate',axis = 1,inplace = True)\n",
    "\n",
    "#This variable is highly correlated with rerror_rate and should be ignored for analysis.\n",
    "#(Correlation = 0.9947309539817937)\n",
    "df.drop('srv_rerror_rate',axis = 1, inplace=True)\n",
    "\n",
    "#This variable is highly correlated with srv_serror_rate and should be ignored for analysis.\n",
    "#(Correlation = 0.9993041091850098)\n",
    "df.drop('dst_host_srv_serror_rate',axis = 1, inplace=True)\n",
    "\n",
    "#This variable is highly correlated with rerror_rate and should be ignored for analysis.\n",
    "#(Correlation = 0.9869947924956001)\n",
    "df.drop('dst_host_serror_rate',axis = 1, inplace=True)\n",
    "\n",
    "#This variable is highly correlated with srv_rerror_rate and should be ignored for analysis.\n",
    "#(Correlation = 0.9821663427308375)\n",
    "df.drop('dst_host_rerror_rate',axis = 1, inplace=True)\n",
    "\n",
    "#This variable is highly correlated with rerror_rate and should be ignored for analysis.\n",
    "#(Correlation = 0.9851995540751249)\n",
    "df.drop('dst_host_srv_rerror_rate',axis = 1, inplace=True)\n",
    "\n",
    "#This variable is highly correlated with srv_rerror_rate and should be ignored for analysis.\n",
    "#(Correlation = 0.9865705438845669)\n",
    "df.drop('dst_host_same_srv_rate',axis = 1, inplace=True)"
   ]
  },
  {
   "cell_type": "code",
   "execution_count": 13,
   "metadata": {},
   "outputs": [
    {
     "data": {
      "text/plain": [
       "is_host_login                       0.000000\n",
       "num_outbound_cmds                   0.000000\n",
       "urgent                              0.005510\n",
       "land                                0.006673\n",
       "su_attempted                        0.007793\n",
       "root_shell                          0.010551\n",
       "num_shells                          0.011020\n",
       "num_failed_logins                   0.015520\n",
       "num_access_files                    0.036482\n",
       "is_guest_login                      0.037211\n",
       "dst_host_srv_diff_host_rate         0.042133\n",
       "diff_srv_rate                       0.082205\n",
       "num_file_creations                  0.096416\n",
       "dst_host_diff_srv_rate              0.109259\n",
       "wrong_fragment                      0.134805\n",
       "srv_diff_host_rate                  0.142397\n",
       "rerror_rate                         0.231623\n",
       "logged_in                           0.355345\n",
       "serror_rate                         0.380717\n",
       "same_srv_rate                       0.388189\n",
       "dst_host_same_src_port_rate         0.481309\n",
       "hot                                 0.782103\n",
       "num_compromised                     1.798326\n",
       "dst_host_count                     64.745380\n",
       "dst_host_srv_count                106.040437\n",
       "count                             213.147412\n",
       "srv_count                         246.322817\n",
       "duration                          707.746472\n",
       "dst_bytes                       33040.001252\n",
       "src_bytes                      988218.101045\n",
       "dtype: float64"
      ]
     },
     "execution_count": 13,
     "metadata": {},
     "output_type": "execute_result"
    }
   ],
   "source": [
    "df_std = df.std()\n",
    "df_std = df_std.sort_values(ascending = True)\n",
    "df_std"
   ]
  },
  {
   "cell_type": "code",
   "execution_count": 14,
   "metadata": {},
   "outputs": [
    {
     "data": {
      "text/plain": [
       "icmp    283602\n",
       "tcp     190065\n",
       "udp      20354\n",
       "Name: protocol_type, dtype: int64"
      ]
     },
     "execution_count": 14,
     "metadata": {},
     "output_type": "execute_result"
    }
   ],
   "source": [
    "df['protocol_type'].value_counts()"
   ]
  },
  {
   "cell_type": "code",
   "execution_count": 15,
   "metadata": {},
   "outputs": [],
   "source": [
    "pmap = {'icmp':0,'tcp':1,'udp':2}\n",
    "df['protocol_type'] = df['protocol_type'].map(pmap)"
   ]
  },
  {
   "cell_type": "code",
   "execution_count": 16,
   "metadata": {},
   "outputs": [
    {
     "data": {
      "text/plain": [
       "SF        378440\n",
       "S0         87007\n",
       "REJ        26875\n",
       "RSTR         903\n",
       "RSTO         579\n",
       "SH           107\n",
       "S1            57\n",
       "S2            24\n",
       "RSTOS0        11\n",
       "S3            10\n",
       "OTH            8\n",
       "Name: flag, dtype: int64"
      ]
     },
     "execution_count": 16,
     "metadata": {},
     "output_type": "execute_result"
    }
   ],
   "source": [
    "df['flag'].value_counts()"
   ]
  },
  {
   "cell_type": "code",
   "execution_count": 17,
   "metadata": {},
   "outputs": [],
   "source": [
    "fmap = {'SF':0,'S0':1,'REJ':2,'RSTR':3,'RSTO':4,'SH':5 ,'S1':6 ,'S2':7,'RSTOS0':8,'S3':9 ,'OTH':10}\n",
    "df['flag'] = df['flag'].map(fmap)\n"
   ]
  },
  {
   "cell_type": "code",
   "execution_count": 18,
   "metadata": {},
   "outputs": [],
   "source": [
    "\n",
    "df.drop('service',axis = 1,inplace= True)"
   ]
  },
  {
   "cell_type": "code",
   "execution_count": 19,
   "metadata": {},
   "outputs": [
    {
     "name": "stdout",
     "output_type": "stream",
     "text": [
      "(494021, 33)\n",
      "(330994, 32) (163027, 32)\n",
      "(330994, 1) (163027, 1)\n"
     ]
    }
   ],
   "source": [
    "df = df.drop(['target',], axis=1)\n",
    "print(df.shape)\n",
    "\n",
    "Y = df[['Attack Type']]\n",
    "X = df.drop(['Attack Type',], axis=1)\n",
    "\n",
    "sc = MinMaxScaler()\n",
    "X = sc.fit_transform(X)\n",
    "\n",
    "X_train, X_test, Y_train, Y_test = train_test_split(X, Y, test_size=0.33, random_state=42)\n",
    "print(X_train.shape, X_test.shape)\n",
    "print(Y_train.shape, Y_test.shape)"
   ]
  },
  {
   "cell_type": "code",
   "execution_count": 20,
   "metadata": {},
   "outputs": [],
   "source": [
    "data_inputs = X_train\n",
    "data_outputs = Y_train.values.ravel()"
   ]
  },
  {
   "cell_type": "code",
   "execution_count": 21,
   "metadata": {},
   "outputs": [],
   "source": [
    "#Genetic Algorithm Starting."
   ]
  },
  {
   "cell_type": "code",
   "execution_count": 22,
   "metadata": {},
   "outputs": [],
   "source": [
    "def reduce_features(solution, features):\n",
    "    selected_elements_indices = numpy.where(solution == 1)[0]\n",
    "    reduced_features = features[:, selected_elements_indices]\n",
    "    return reduced_features\n",
    "\n",
    "\n",
    "def classification_accuracy(labels, predictions):\n",
    "    correct = numpy.where(labels == predictions)[0]\n",
    "    accuracy = correct.shape[0]/labels.shape[0]\n",
    "    return accuracy\n",
    "\n",
    "\n",
    "def cal_pop_fitness(pop, features, labels, train_indices, test_indices):\n",
    "    accuracies = numpy.zeros(pop.shape[0])\n",
    "    idx = 0\n",
    "\n",
    "    for curr_solution in pop:\n",
    "        reduced_features = reduce_features(curr_solution, features)\n",
    "        train_data = reduced_features[train_indices, :]\n",
    "        test_data = reduced_features[test_indices, :]\n",
    "      \n",
    "\n",
    "        train_labels = labels[train_indices]\n",
    "        test_labels = labels[test_indices]\n",
    "\n",
    "\n",
    "        SV_classifier = sklearn.svm.SVC(gamma='scale')\n",
    "        SV_classifier.fit(X=train_data, y=train_labels)\n",
    "\n",
    "        predictions = SV_classifier.predict(test_data)\n",
    "        accuracies[idx] = classification_accuracy(test_labels, predictions)\n",
    "        idx = idx + 1\n",
    "    return accuracies\n",
    "\n",
    "def select_mating_pool(pop, fitness, num_parents):\n",
    "    # Selecting the best individuals in the current generation as parents for producing the offspring of the next generation.\n",
    "    parents = numpy.empty((num_parents, pop.shape[1]))\n",
    "    for parent_num in range(num_parents):\n",
    "        max_fitness_idx = numpy.where(fitness == numpy.max(fitness))\n",
    "        max_fitness_idx = max_fitness_idx[0][0]\n",
    "        parents[parent_num, :] = pop[max_fitness_idx, :]\n",
    "        fitness[max_fitness_idx] = -99999999999\n",
    "    return parents\n",
    "\n",
    "\n",
    "def crossover(parents, offspring_size):\n",
    "    offspring = numpy.empty(offspring_size)\n",
    "    # The point at which crossover takes place between two parents. Usually, it is at the center.\n",
    "    crossover_point = numpy.uint8(offspring_size[1]/2)\n",
    "\n",
    "    for k in range(offspring_size[0]):\n",
    "        # Index of the first parent to mate.\n",
    "        parent1_idx = k%parents.shape[0]\n",
    "        # Index of the second parent to mate.\n",
    "        parent2_idx = (k+1)%parents.shape[0]\n",
    "        # The new offspring will have its first half of its genes taken from the first parent.\n",
    "        offspring[k, 0:crossover_point] = parents[parent1_idx, 0:crossover_point]\n",
    "        # The new offspring will have its second half of its genes taken from the second parent.\n",
    "        offspring[k, crossover_point:] = parents[parent2_idx, crossover_point:]\n",
    "    return offspring\n",
    "\n",
    "\n",
    "def mutation(offspring_crossover, num_mutations=2):\n",
    "    mutation_idx = numpy.random.randint(low=0, high=offspring_crossover.shape[1], size=num_mutations)\n",
    "    # Mutation changes a single gene in each offspring randomly.\n",
    "    for idx in range(offspring_crossover.shape[0]):\n",
    "        # The random value to be added to the gene.\n",
    "        offspring_crossover[idx, mutation_idx] = 1 - offspring_crossover[idx, mutation_idx]\n",
    "    return offspring_crossover"
   ]
  },
  {
   "cell_type": "code",
   "execution_count": 23,
   "metadata": {},
   "outputs": [],
   "source": [
    "num_samples = data_inputs.shape[0]\n",
    "num_feature_elements = data_inputs.shape[1]"
   ]
  },
  {
   "cell_type": "code",
   "execution_count": 24,
   "metadata": {},
   "outputs": [
    {
     "name": "stdout",
     "output_type": "stream",
     "text": [
      "(82749,)\n",
      "Number of training samples:  82749\n",
      "Number of test samples:  82749\n"
     ]
    }
   ],
   "source": [
    "train_indices = numpy.arange(1, num_samples, 4)\n",
    "test_indices = numpy.arange(0, num_samples, 4)\n",
    "print(test_indices.shape)\n",
    "test_indices.shape\n",
    "print(\"Number of training samples: \", train_indices.shape[0])\n",
    "print(\"Number of test samples: \", test_indices.shape[0])"
   ]
  },
  {
   "cell_type": "code",
   "execution_count": 25,
   "metadata": {},
   "outputs": [
    {
     "data": {
      "text/plain": [
       "'\\nGenetic algorithm parameters:\\n    Population size\\n    Mating pool size\\n    Number of mutations\\n'"
      ]
     },
     "execution_count": 25,
     "metadata": {},
     "output_type": "execute_result"
    }
   ],
   "source": [
    "\"\"\"\n",
    "Genetic algorithm parameters:\n",
    "    Population size\n",
    "    Mating pool size\n",
    "    Number of mutations\n",
    "\"\"\""
   ]
  },
  {
   "cell_type": "code",
   "execution_count": 26,
   "metadata": {},
   "outputs": [],
   "source": [
    "sol_per_pop = 8 # Population size.\n",
    "num_parents_mating = 4 # Number of parents inside the mating pool.\n",
    "num_mutations = 3 # Number of elements to mutate."
   ]
  },
  {
   "cell_type": "code",
   "execution_count": 27,
   "metadata": {},
   "outputs": [],
   "source": [
    "# Defining the population shape.\n",
    "pop_shape = (sol_per_pop, num_feature_elements)"
   ]
  },
  {
   "cell_type": "code",
   "execution_count": 28,
   "metadata": {},
   "outputs": [
    {
     "name": "stdout",
     "output_type": "stream",
     "text": [
      "(8, 32)\n"
     ]
    }
   ],
   "source": [
    "# Creating the initial population.\n",
    "new_population = numpy.random.randint(low=0, high=2, size=pop_shape)\n",
    "print(new_population.shape)\n"
   ]
  },
  {
   "cell_type": "code",
   "execution_count": null,
   "metadata": {},
   "outputs": [],
   "source": []
  },
  {
   "cell_type": "code",
   "execution_count": 29,
   "metadata": {
    "scrolled": true
   },
   "outputs": [
    {
     "name": "stdout",
     "output_type": "stream",
     "text": [
      "Generation :  0\n",
      "Best result :  0.9930391908059312\n"
     ]
    }
   ],
   "source": [
    "start_time = time.time()\n",
    "best_outputs = []\n",
    "num_generations = 1\n",
    "for generation in range(num_generations):\n",
    "    print(\"Generation : \", generation)\n",
    "    # Measuring the fitness of each chromosome in the population.\n",
    "    fitness = cal_pop_fitness(new_population, data_inputs, data_outputs, train_indices, test_indices)\n",
    "\n",
    "    best_outputs.append(numpy.max(fitness))\n",
    "    # The best result in the current iteration.\n",
    "    print(\"Best result : \", best_outputs[-1])\n",
    "\n",
    "    # Selecting the best parents in the population for mating.\n",
    "    parents = select_mating_pool(new_population, fitness, num_parents_mating)\n",
    "\n",
    "    # Generating next generation using crossover.\n",
    "    offspring_crossover = crossover(parents, offspring_size=(pop_shape[0]-parents.shape[0], num_feature_elements))\n",
    "\n",
    "    # Adding some variations to the offspring using mutation.\n",
    "    offspring_mutation = mutation(offspring_crossover, num_mutations=num_mutations)\n",
    "\n",
    "    # Creating the new population based on the parents and offspring.\n",
    "    new_population[0:parents.shape[0], :] = parents\n",
    "    new_population[parents.shape[0]:, :] = offspring_mutation\n",
    "end_time = time.time()"
   ]
  },
  {
   "cell_type": "code",
   "execution_count": 30,
   "metadata": {},
   "outputs": [
    {
     "data": {
      "text/plain": [
       "104.70939517021179"
      ]
     },
     "execution_count": 30,
     "metadata": {},
     "output_type": "execute_result"
    }
   ],
   "source": [
    "ga_train = end_time - start_time\n",
    "ga_train"
   ]
  },
  {
   "cell_type": "code",
   "execution_count": 31,
   "metadata": {},
   "outputs": [],
   "source": [
    "start_time = time.time()\n",
    "# Getting the best solution after iterating finishing all generations.\n",
    "# At first, the fitness is calculated for each solution in the final generation.\n",
    "fitness = cal_pop_fitness(new_population, data_inputs, data_outputs, train_indices, test_indices)\n",
    "# Then return the index of that solution corresponding to the best fitness.\n",
    "best_match_idx = numpy.where(fitness == numpy.max(fitness))[0]\n",
    "best_match_idx = best_match_idx[0]# Getting the best solution after iterating finishing all generations.\n",
    "# At first, the fitness is calculated for each solution in the final generation.\n",
    "fitness = cal_pop_fitness(new_population, data_inputs, data_outputs, train_indices, test_indices)\n",
    "# Then return the index of that solution corresponding to the best fitness.\n",
    "best_match_idx = numpy.where(fitness == numpy.max(fitness))[0]\n",
    "best_match_idx = best_match_idx[0]\n",
    "end_time = time.time()\n",
    "ga_best_sol = end_time - start_time"
   ]
  },
  {
   "cell_type": "code",
   "execution_count": 32,
   "metadata": {},
   "outputs": [
    {
     "data": {
      "text/plain": [
       "143.6621232032776"
      ]
     },
     "execution_count": 32,
     "metadata": {},
     "output_type": "execute_result"
    }
   ],
   "source": [
    "ga_best_sol"
   ]
  },
  {
   "cell_type": "code",
   "execution_count": 33,
   "metadata": {},
   "outputs": [],
   "source": [
    "best_solution = new_population[best_match_idx, :]\n",
    "best_solution_indices = numpy.where(best_solution == 1)[0]\n",
    "best_solution_num_elements = best_solution_indices.shape[0]\n",
    "best_solution_fitness = fitness[best_match_idx]"
   ]
  },
  {
   "cell_type": "code",
   "execution_count": 34,
   "metadata": {},
   "outputs": [
    {
     "name": "stdout",
     "output_type": "stream",
     "text": [
      "best_match_idx :  0\n",
      "best_solution :  [0 1 0 0 1 0 1 0 0 0 1 1 0 0 1 1 0 0 1 1 0 1 1 0 1 1 1 1 1 1 1 0]\n",
      "Selected indices :  [ 1  4  6 10 11 14 15 18 19 21 22 24 25 26 27 28 29 30]\n",
      "Number of selected elements :  18\n",
      "Best solution fitness :  0.9930391908059312\n"
     ]
    }
   ],
   "source": [
    "print(\"best_match_idx : \", best_match_idx)\n",
    "print(\"best_solution : \", best_solution)\n",
    "print(\"Selected indices : \", best_solution_indices)\n",
    "print(\"Number of selected elements : \", best_solution_num_elements)\n",
    "print(\"Best solution fitness : \", best_solution_fitness)"
   ]
  },
  {
   "cell_type": "code",
   "execution_count": 35,
   "metadata": {},
   "outputs": [
    {
     "data": {
      "image/png": "[encoded data removed]",
      "text/plain": [
       "<Figure size 432x288 with 1 Axes>"
      ]
     },
     "metadata": {
      "needs_background": "light"
     },
     "output_type": "display_data"
    }
   ],
   "source": [
    "matplotlib.pyplot.plot(best_outputs)\n",
    "matplotlib.pyplot.xlabel(\"Iteration\")\n",
    "matplotlib.pyplot.ylabel(\"Fitness\")\n",
    "matplotlib.pyplot.show()"
   ]
  },
  {
   "cell_type": "code",
   "execution_count": 36,
   "metadata": {},
   "outputs": [],
   "source": [
    "#Example output of Genetic Algorithm Reduction."
   ]
  },
  {
   "cell_type": "code",
   "execution_count": 37,
   "metadata": {},
   "outputs": [
    {
     "data": {
      "text/plain": [
       "'\\n\\n 0  1  2  6  8  9 10 15 16 18 19 20 22 23 24 25 29 30 31 \\n\\nduration   \\nprotocol_type                    \\nflag        \\nwrong_fragment     \\nhot      \\nnum_failed_logins                \\nlogged_in                        \\nnum_shells                       \\nnum_access_files                 \\nis_host_login                    \\nis_guest_login                   \\ncount                            \\nserror_rate                    \\nrerror_rate                    \\nsame_srv_rate                  \\ndiff_srv_rate                  \\ndst_host_diff_srv_rate         \\ndst_host_same_src_port_rate    \\ndst_host_srv_diff_host_rate           \\n'"
      ]
     },
     "execution_count": 37,
     "metadata": {},
     "output_type": "execute_result"
    }
   ],
   "source": [
    "\"\"\"\n",
    "\n",
    " 0  1  2  6  8  9 10 15 16 18 19 20 22 23 24 25 29 30 31 \n",
    "\n",
    "duration   \n",
    "protocol_type                    \n",
    "flag        \n",
    "wrong_fragment     \n",
    "hot      \n",
    "num_failed_logins                \n",
    "logged_in                        \n",
    "num_shells                       \n",
    "num_access_files                 \n",
    "is_host_login                    \n",
    "is_guest_login                   \n",
    "count                            \n",
    "serror_rate                    \n",
    "rerror_rate                    \n",
    "same_srv_rate                  \n",
    "diff_srv_rate                  \n",
    "dst_host_diff_srv_rate         \n",
    "dst_host_same_src_port_rate    \n",
    "dst_host_srv_diff_host_rate           \n",
    "\"\"\""
   ]
  },
  {
   "cell_type": "code",
   "execution_count": 38,
   "metadata": {},
   "outputs": [],
   "source": [
    "#Modify the original dataset and select only relevant features."
   ]
  },
  {
   "cell_type": "code",
   "execution_count": 39,
   "metadata": {},
   "outputs": [],
   "source": [
    "dfObj = pd.DataFrame(df)\n",
    "tt= dfObj.iloc[: , best_solution_indices]"
   ]
  },
  {
   "cell_type": "code",
   "execution_count": 40,
   "metadata": {},
   "outputs": [],
   "source": [
    "#Fuzzy C Means Clustering starting."
   ]
  },
  {
   "cell_type": "code",
   "execution_count": 41,
   "metadata": {},
   "outputs": [],
   "source": [
    "import numpy as np, numpy.random\n",
    "import pandas as pd\n",
    "from scipy.spatial import distance\n",
    "k = 2\n",
    "p = 5\n",
    "dat = df.drop(['Attack Type',], axis=1)"
   ]
  },
  {
   "cell_type": "code",
   "execution_count": 42,
   "metadata": {},
   "outputs": [
    {
     "name": "stdout",
     "output_type": "stream",
     "text": [
      "The FCM algorithm: \n",
      "\n",
      "The training data: \n",
      " [[0.   1.   0.   ... 0.11 0.   0.  ]\n",
      " [0.   1.   0.   ... 0.05 0.   0.  ]\n",
      " [0.   1.   0.   ... 0.03 0.   0.  ]\n",
      " ...\n",
      " [0.   1.   0.   ... 0.06 0.05 0.  ]\n",
      " [0.   1.   0.   ... 0.04 0.05 0.  ]\n",
      " [0.   1.   0.   ... 0.17 0.05 0.  ]]\n",
      "\n",
      "Total number of data:  494021\n",
      "Total number of features:  32\n",
      "Total number of Clusters:  2\n"
     ]
    }
   ],
   "source": [
    "n = len(dat)\n",
    "d = len(dat.columns)\n",
    "addZeros = np.zeros((n, 1))\n",
    "dat = np.append(dat, addZeros, axis=1)\n",
    "print(\"The FCM algorithm: \\n\")\n",
    "print(\"The training data: \\n\", dat)\n",
    "print(\"\\nTotal number of data: \",n)\n",
    "print(\"Total number of features: \",d)\n",
    "print(\"Total number of Clusters: \",k)"
   ]
  },
  {
   "cell_type": "code",
   "execution_count": 43,
   "metadata": {},
   "outputs": [
    {
     "data": {
      "text/plain": [
       "array([[0., 0., 0., 0., 0., 0., 0., 0., 0., 0., 0., 0., 0., 0., 0., 0.,\n",
       "        0., 0., 0., 0., 0., 0., 0., 0., 0., 0., 0., 0., 0., 0., 0., 0.,\n",
       "        0.],\n",
       "       [0., 0., 0., 0., 0., 0., 0., 0., 0., 0., 0., 0., 0., 0., 0., 0.,\n",
       "        0., 0., 0., 0., 0., 0., 0., 0., 0., 0., 0., 0., 0., 0., 0., 0.,\n",
       "        0.]])"
      ]
     },
     "execution_count": 43,
     "metadata": {},
     "output_type": "execute_result"
    }
   ],
   "source": [
    "C = np.zeros((k,d+1))\n",
    "C"
   ]
  },
  {
   "cell_type": "code",
   "execution_count": 44,
   "metadata": {},
   "outputs": [
    {
     "name": "stdout",
     "output_type": "stream",
     "text": [
      "\n",
      "The initial weight: \n",
      " [[0.73 0.27]\n",
      " [0.37 0.63]\n",
      " [0.95 0.05]\n",
      " ...\n",
      " [0.77 0.23]\n",
      " [0.94 0.06]\n",
      " [0.48 0.52]]\n"
     ]
    }
   ],
   "source": [
    "weight = np.random.dirichlet(np.ones(k),size=n)\n",
    "print(\"\\nThe initial weight: \\n\", np.round(weight,2))"
   ]
  },
  {
   "cell_type": "code",
   "execution_count": 45,
   "metadata": {},
   "outputs": [
    {
     "data": {
      "text/plain": [
       "(494021, 2)"
      ]
     },
     "execution_count": 45,
     "metadata": {},
     "output_type": "execute_result"
    }
   ],
   "source": [
    "weight.shape"
   ]
  },
  {
   "cell_type": "code",
   "execution_count": 46,
   "metadata": {},
   "outputs": [],
   "source": [
    "for it in range(3): # Total number of iterations\n",
    "    \n",
    "    # Compute centroid\n",
    "    for j in range(k):\n",
    "        denoSum = sum(np.power(weight[:,j],2))\n",
    "        \n",
    "        sumMM =0\n",
    "        for i in range(n):\n",
    "            mm = np.multiply(np.power(weight[i,j],p),dat[i,:])\n",
    "            sumMM +=mm\n",
    "        cc = sumMM/denoSum\n",
    "        C[j] = np.reshape(cc,d+1)\n",
    " \n",
    "    #Updating the fuzzy pseudo partition\n",
    "    for i in range(n):\n",
    "        denoSumNext = 0\n",
    "        for j in range(k):\n",
    "             denoSumNext += np.power(1/distance.euclidean(C[j,0:d], dat[i,0:d]),1/(p-1))\n",
    "        for j in range(k):\n",
    "            w = np.power((1/distance.euclidean(C[j,0:d], dat[i,0:d])),1/(p-1))/denoSumNext\n",
    "            weight[i,j] = w"
   ]
  },
  {
   "cell_type": "code",
   "execution_count": 47,
   "metadata": {},
   "outputs": [
    {
     "name": "stdout",
     "output_type": "stream",
     "text": [
      "\n",
      "The final weights: \n",
      " [[0.5 0.5]\n",
      " [0.5 0.5]\n",
      " [0.5 0.5]\n",
      " ...\n",
      " [0.5 0.5]\n",
      " [0.5 0.5]\n",
      " [0.5 0.5]]\n"
     ]
    }
   ],
   "source": [
    "print(\"\\nThe final weights: \\n\", np.round(weight,2))"
   ]
  },
  {
   "cell_type": "code",
   "execution_count": 48,
   "metadata": {},
   "outputs": [
    {
     "name": "stdout",
     "output_type": "stream",
     "text": [
      "\n",
      "The data with cluster number: \n",
      " [[0.   1.   0.   ... 0.11 0.   1.  ]\n",
      " [0.   1.   0.   ... 0.05 0.   1.  ]\n",
      " [0.   1.   0.   ... 0.03 0.   1.  ]\n",
      " ...\n",
      " [0.   1.   0.   ... 0.06 0.05 1.  ]\n",
      " [0.   1.   0.   ... 0.04 0.05 1.  ]\n",
      " [0.   1.   0.   ... 0.17 0.05 1.  ]]\n"
     ]
    }
   ],
   "source": [
    "for i in range(n):    \n",
    "    cNumber = np.where(weight[i] == np.amax(weight[i]))\n",
    "    dat[i,d] = cNumber[0]\n",
    "    \n",
    "print(\"\\nThe data with cluster number: \\n\", dat)"
   ]
  },
  {
   "cell_type": "code",
   "execution_count": 49,
   "metadata": {},
   "outputs": [
    {
     "name": "stdout",
     "output_type": "stream",
     "text": [
      "\n",
      "SSE:  122824578.0189\n"
     ]
    }
   ],
   "source": [
    "# Sum squared error calculation\n",
    "SSE = 0\n",
    "for j in range(k):\n",
    "    for i in range(n):\n",
    "        SSE += np.power(weight[i,j],p)*distance.euclidean(C[j,0:d], dat[i,0:d])\n",
    "\n",
    "print(\"\\nSSE: \",np.round(SSE,4))"
   ]
  },
  {
   "cell_type": "code",
   "execution_count": 50,
   "metadata": {},
   "outputs": [],
   "source": [
    "#set column names to the output of the fuzzy c means clustering algorithm."
   ]
  },
  {
   "cell_type": "code",
   "execution_count": 51,
   "metadata": {},
   "outputs": [],
   "source": [
    "cont = pd.DataFrame(dat, columns=['urgent','hot','num_failed_logins','logged_in','num_compromised','root_shell','su_attempted','num_root','num_file_creations','num_shells','num_access_files','num_outbound_cmds','is_host_login','is_guest_login','count','srv_count','serror_rate','srv_serror_rate','rerror_rate','srv_rerror_rate','same_srv_rate','diff_srv_rate','srv_diff_host_rate','dst_host_count','dst_host_srv_count','dst_host_same_srv_rate','dst_host_diff_srv_rate','dst_host_same_src_port_rate','dst_host_srv_diff_host_rate','dst_host_serror_rate','dst_host_srv_serror_rate','dst_host_rerror_rate','cluster'])"
   ]
  },
  {
   "cell_type": "code",
   "execution_count": 52,
   "metadata": {},
   "outputs": [],
   "source": [
    "#select all records in cluster 1."
   ]
  },
  {
   "cell_type": "code",
   "execution_count": null,
   "metadata": {},
   "outputs": [],
   "source": []
  },
  {
   "cell_type": "code",
   "execution_count": 53,
   "metadata": {},
   "outputs": [],
   "source": [
    "ss = np.flatnonzero(cont['cluster'])"
   ]
  },
  {
   "cell_type": "code",
   "execution_count": 54,
   "metadata": {},
   "outputs": [
    {
     "data": {
      "text/plain": [
       "(197421,)"
      ]
     },
     "execution_count": 54,
     "metadata": {},
     "output_type": "execute_result"
    }
   ],
   "source": [
    "ss.shape"
   ]
  },
  {
   "cell_type": "code",
   "execution_count": 55,
   "metadata": {},
   "outputs": [],
   "source": [
    "#Create new dataset with improved features and relevant records."
   ]
  },
  {
   "cell_type": "code",
   "execution_count": 56,
   "metadata": {},
   "outputs": [],
   "source": [
    "testObj = pd.DataFrame(df)\n",
    "tes= testObj.iloc[ss , best_solution_indices]"
   ]
  },
  {
   "cell_type": "code",
   "execution_count": 57,
   "metadata": {},
   "outputs": [
    {
     "data": {
      "text/html": [
       "<div>\n",
       "<style scoped>\n",
       "    .dataframe tbody tr th:only-of-type {\n",
       "        vertical-align: middle;\n",
       "    }\n",
       "\n",
       "    .dataframe tbody tr th {\n",
       "        vertical-align: top;\n",
       "    }\n",
       "\n",
       "    .dataframe thead th {\n",
       "        text-align: right;\n",
       "    }\n",
       "</style>\n",
       "<table border=\"1\" class=\"dataframe\">\n",
       "  <thead>\n",
       "    <tr style=\"text-align: right;\">\n",
       "      <th></th>\n",
       "      <th>duration</th>\n",
       "      <th>protocol_type</th>\n",
       "      <th>src_bytes</th>\n",
       "      <th>land</th>\n",
       "      <th>wrong_fragment</th>\n",
       "      <th>urgent</th>\n",
       "      <th>hot</th>\n",
       "      <th>num_failed_logins</th>\n",
       "      <th>logged_in</th>\n",
       "      <th>root_shell</th>\n",
       "      <th>...</th>\n",
       "      <th>num_access_files</th>\n",
       "      <th>num_outbound_cmds</th>\n",
       "      <th>is_guest_login</th>\n",
       "      <th>count</th>\n",
       "      <th>srv_count</th>\n",
       "      <th>rerror_rate</th>\n",
       "      <th>diff_srv_rate</th>\n",
       "      <th>srv_diff_host_rate</th>\n",
       "      <th>dst_host_srv_count</th>\n",
       "      <th>dst_host_same_src_port_rate</th>\n",
       "    </tr>\n",
       "  </thead>\n",
       "  <tbody>\n",
       "    <tr>\n",
       "      <th>0</th>\n",
       "      <td>0</td>\n",
       "      <td>1</td>\n",
       "      <td>181</td>\n",
       "      <td>0</td>\n",
       "      <td>0</td>\n",
       "      <td>0</td>\n",
       "      <td>0</td>\n",
       "      <td>0</td>\n",
       "      <td>1</td>\n",
       "      <td>0</td>\n",
       "      <td>...</td>\n",
       "      <td>0</td>\n",
       "      <td>0</td>\n",
       "      <td>0</td>\n",
       "      <td>8</td>\n",
       "      <td>8</td>\n",
       "      <td>0.0</td>\n",
       "      <td>0.0</td>\n",
       "      <td>0.00</td>\n",
       "      <td>9</td>\n",
       "      <td>0.11</td>\n",
       "    </tr>\n",
       "    <tr>\n",
       "      <th>1</th>\n",
       "      <td>0</td>\n",
       "      <td>1</td>\n",
       "      <td>239</td>\n",
       "      <td>0</td>\n",
       "      <td>0</td>\n",
       "      <td>0</td>\n",
       "      <td>0</td>\n",
       "      <td>0</td>\n",
       "      <td>1</td>\n",
       "      <td>0</td>\n",
       "      <td>...</td>\n",
       "      <td>0</td>\n",
       "      <td>0</td>\n",
       "      <td>0</td>\n",
       "      <td>8</td>\n",
       "      <td>8</td>\n",
       "      <td>0.0</td>\n",
       "      <td>0.0</td>\n",
       "      <td>0.00</td>\n",
       "      <td>19</td>\n",
       "      <td>0.05</td>\n",
       "    </tr>\n",
       "    <tr>\n",
       "      <th>2</th>\n",
       "      <td>0</td>\n",
       "      <td>1</td>\n",
       "      <td>235</td>\n",
       "      <td>0</td>\n",
       "      <td>0</td>\n",
       "      <td>0</td>\n",
       "      <td>0</td>\n",
       "      <td>0</td>\n",
       "      <td>1</td>\n",
       "      <td>0</td>\n",
       "      <td>...</td>\n",
       "      <td>0</td>\n",
       "      <td>0</td>\n",
       "      <td>0</td>\n",
       "      <td>8</td>\n",
       "      <td>8</td>\n",
       "      <td>0.0</td>\n",
       "      <td>0.0</td>\n",
       "      <td>0.00</td>\n",
       "      <td>29</td>\n",
       "      <td>0.03</td>\n",
       "    </tr>\n",
       "    <tr>\n",
       "      <th>3</th>\n",
       "      <td>0</td>\n",
       "      <td>1</td>\n",
       "      <td>219</td>\n",
       "      <td>0</td>\n",
       "      <td>0</td>\n",
       "      <td>0</td>\n",
       "      <td>0</td>\n",
       "      <td>0</td>\n",
       "      <td>1</td>\n",
       "      <td>0</td>\n",
       "      <td>...</td>\n",
       "      <td>0</td>\n",
       "      <td>0</td>\n",
       "      <td>0</td>\n",
       "      <td>6</td>\n",
       "      <td>6</td>\n",
       "      <td>0.0</td>\n",
       "      <td>0.0</td>\n",
       "      <td>0.00</td>\n",
       "      <td>39</td>\n",
       "      <td>0.03</td>\n",
       "    </tr>\n",
       "    <tr>\n",
       "      <th>4</th>\n",
       "      <td>0</td>\n",
       "      <td>1</td>\n",
       "      <td>217</td>\n",
       "      <td>0</td>\n",
       "      <td>0</td>\n",
       "      <td>0</td>\n",
       "      <td>0</td>\n",
       "      <td>0</td>\n",
       "      <td>1</td>\n",
       "      <td>0</td>\n",
       "      <td>...</td>\n",
       "      <td>0</td>\n",
       "      <td>0</td>\n",
       "      <td>0</td>\n",
       "      <td>6</td>\n",
       "      <td>6</td>\n",
       "      <td>0.0</td>\n",
       "      <td>0.0</td>\n",
       "      <td>0.00</td>\n",
       "      <td>49</td>\n",
       "      <td>0.02</td>\n",
       "    </tr>\n",
       "    <tr>\n",
       "      <th>...</th>\n",
       "      <td>...</td>\n",
       "      <td>...</td>\n",
       "      <td>...</td>\n",
       "      <td>...</td>\n",
       "      <td>...</td>\n",
       "      <td>...</td>\n",
       "      <td>...</td>\n",
       "      <td>...</td>\n",
       "      <td>...</td>\n",
       "      <td>...</td>\n",
       "      <td>...</td>\n",
       "      <td>...</td>\n",
       "      <td>...</td>\n",
       "      <td>...</td>\n",
       "      <td>...</td>\n",
       "      <td>...</td>\n",
       "      <td>...</td>\n",
       "      <td>...</td>\n",
       "      <td>...</td>\n",
       "      <td>...</td>\n",
       "      <td>...</td>\n",
       "    </tr>\n",
       "    <tr>\n",
       "      <th>494016</th>\n",
       "      <td>0</td>\n",
       "      <td>1</td>\n",
       "      <td>310</td>\n",
       "      <td>0</td>\n",
       "      <td>0</td>\n",
       "      <td>0</td>\n",
       "      <td>0</td>\n",
       "      <td>0</td>\n",
       "      <td>1</td>\n",
       "      <td>0</td>\n",
       "      <td>...</td>\n",
       "      <td>0</td>\n",
       "      <td>0</td>\n",
       "      <td>0</td>\n",
       "      <td>4</td>\n",
       "      <td>5</td>\n",
       "      <td>0.0</td>\n",
       "      <td>0.0</td>\n",
       "      <td>0.40</td>\n",
       "      <td>255</td>\n",
       "      <td>0.01</td>\n",
       "    </tr>\n",
       "    <tr>\n",
       "      <th>494017</th>\n",
       "      <td>0</td>\n",
       "      <td>1</td>\n",
       "      <td>282</td>\n",
       "      <td>0</td>\n",
       "      <td>0</td>\n",
       "      <td>0</td>\n",
       "      <td>0</td>\n",
       "      <td>0</td>\n",
       "      <td>1</td>\n",
       "      <td>0</td>\n",
       "      <td>...</td>\n",
       "      <td>0</td>\n",
       "      <td>0</td>\n",
       "      <td>0</td>\n",
       "      <td>6</td>\n",
       "      <td>6</td>\n",
       "      <td>0.0</td>\n",
       "      <td>0.0</td>\n",
       "      <td>0.00</td>\n",
       "      <td>255</td>\n",
       "      <td>0.17</td>\n",
       "    </tr>\n",
       "    <tr>\n",
       "      <th>494018</th>\n",
       "      <td>0</td>\n",
       "      <td>1</td>\n",
       "      <td>203</td>\n",
       "      <td>0</td>\n",
       "      <td>0</td>\n",
       "      <td>0</td>\n",
       "      <td>0</td>\n",
       "      <td>0</td>\n",
       "      <td>1</td>\n",
       "      <td>0</td>\n",
       "      <td>...</td>\n",
       "      <td>0</td>\n",
       "      <td>0</td>\n",
       "      <td>0</td>\n",
       "      <td>6</td>\n",
       "      <td>18</td>\n",
       "      <td>0.0</td>\n",
       "      <td>0.0</td>\n",
       "      <td>0.17</td>\n",
       "      <td>255</td>\n",
       "      <td>0.06</td>\n",
       "    </tr>\n",
       "    <tr>\n",
       "      <th>494019</th>\n",
       "      <td>0</td>\n",
       "      <td>1</td>\n",
       "      <td>291</td>\n",
       "      <td>0</td>\n",
       "      <td>0</td>\n",
       "      <td>0</td>\n",
       "      <td>0</td>\n",
       "      <td>0</td>\n",
       "      <td>1</td>\n",
       "      <td>0</td>\n",
       "      <td>...</td>\n",
       "      <td>0</td>\n",
       "      <td>0</td>\n",
       "      <td>0</td>\n",
       "      <td>6</td>\n",
       "      <td>12</td>\n",
       "      <td>0.0</td>\n",
       "      <td>0.0</td>\n",
       "      <td>0.17</td>\n",
       "      <td>255</td>\n",
       "      <td>0.04</td>\n",
       "    </tr>\n",
       "    <tr>\n",
       "      <th>494020</th>\n",
       "      <td>0</td>\n",
       "      <td>1</td>\n",
       "      <td>219</td>\n",
       "      <td>0</td>\n",
       "      <td>0</td>\n",
       "      <td>0</td>\n",
       "      <td>0</td>\n",
       "      <td>0</td>\n",
       "      <td>1</td>\n",
       "      <td>0</td>\n",
       "      <td>...</td>\n",
       "      <td>0</td>\n",
       "      <td>0</td>\n",
       "      <td>0</td>\n",
       "      <td>6</td>\n",
       "      <td>35</td>\n",
       "      <td>0.0</td>\n",
       "      <td>0.0</td>\n",
       "      <td>0.14</td>\n",
       "      <td>255</td>\n",
       "      <td>0.17</td>\n",
       "    </tr>\n",
       "  </tbody>\n",
       "</table>\n",
       "<p>197421 rows × 21 columns</p>\n",
       "</div>"
      ],
      "text/plain": [
       "        duration  protocol_type  src_bytes  land  wrong_fragment  urgent  hot  \\\n",
       "0              0              1        181     0               0       0    0   \n",
       "1              0              1        239     0               0       0    0   \n",
       "2              0              1        235     0               0       0    0   \n",
       "3              0              1        219     0               0       0    0   \n",
       "4              0              1        217     0               0       0    0   \n",
       "...          ...            ...        ...   ...             ...     ...  ...   \n",
       "494016         0              1        310     0               0       0    0   \n",
       "494017         0              1        282     0               0       0    0   \n",
       "494018         0              1        203     0               0       0    0   \n",
       "494019         0              1        291     0               0       0    0   \n",
       "494020         0              1        219     0               0       0    0   \n",
       "\n",
       "        num_failed_logins  logged_in  root_shell  ...  num_access_files  \\\n",
       "0                       0          1           0  ...                 0   \n",
       "1                       0          1           0  ...                 0   \n",
       "2                       0          1           0  ...                 0   \n",
       "3                       0          1           0  ...                 0   \n",
       "4                       0          1           0  ...                 0   \n",
       "...                   ...        ...         ...  ...               ...   \n",
       "494016                  0          1           0  ...                 0   \n",
       "494017                  0          1           0  ...                 0   \n",
       "494018                  0          1           0  ...                 0   \n",
       "494019                  0          1           0  ...                 0   \n",
       "494020                  0          1           0  ...                 0   \n",
       "\n",
       "        num_outbound_cmds  is_guest_login  count  srv_count  rerror_rate  \\\n",
       "0                       0               0      8          8          0.0   \n",
       "1                       0               0      8          8          0.0   \n",
       "2                       0               0      8          8          0.0   \n",
       "3                       0               0      6          6          0.0   \n",
       "4                       0               0      6          6          0.0   \n",
       "...                   ...             ...    ...        ...          ...   \n",
       "494016                  0               0      4          5          0.0   \n",
       "494017                  0               0      6          6          0.0   \n",
       "494018                  0               0      6         18          0.0   \n",
       "494019                  0               0      6         12          0.0   \n",
       "494020                  0               0      6         35          0.0   \n",
       "\n",
       "        diff_srv_rate  srv_diff_host_rate  dst_host_srv_count  \\\n",
       "0                 0.0                0.00                   9   \n",
       "1                 0.0                0.00                  19   \n",
       "2                 0.0                0.00                  29   \n",
       "3                 0.0                0.00                  39   \n",
       "4                 0.0                0.00                  49   \n",
       "...               ...                 ...                 ...   \n",
       "494016            0.0                0.40                 255   \n",
       "494017            0.0                0.00                 255   \n",
       "494018            0.0                0.17                 255   \n",
       "494019            0.0                0.17                 255   \n",
       "494020            0.0                0.14                 255   \n",
       "\n",
       "        dst_host_same_src_port_rate  \n",
       "0                              0.11  \n",
       "1                              0.05  \n",
       "2                              0.03  \n",
       "3                              0.03  \n",
       "4                              0.02  \n",
       "...                             ...  \n",
       "494016                         0.01  \n",
       "494017                         0.17  \n",
       "494018                         0.06  \n",
       "494019                         0.04  \n",
       "494020                         0.17  \n",
       "\n",
       "[197421 rows x 21 columns]"
      ]
     },
     "execution_count": 57,
     "metadata": {},
     "output_type": "execute_result"
    }
   ],
   "source": [
    "tes"
   ]
  },
  {
   "cell_type": "code",
   "execution_count": 40,
   "metadata": {},
   "outputs": [
    {
     "ename": "NameError",
     "evalue": "name 'testObj' is not defined",
     "output_type": "error",
     "traceback": [
      "\u001b[1;31m---------------------------------------------------------------------------\u001b[0m",
      "\u001b[1;31mNameError\u001b[0m                                 Traceback (most recent call last)",
      "\u001b[1;32m<ipython-input-40-0a0a4c6e4b06>\u001b[0m in \u001b[0;36m<module>\u001b[1;34m\u001b[0m\n\u001b[1;32m----> 1\u001b[1;33m \u001b[0mfet\u001b[0m \u001b[1;33m=\u001b[0m \u001b[0mtestObj\u001b[0m\u001b[1;33m.\u001b[0m\u001b[0miloc\u001b[0m\u001b[1;33m[\u001b[0m\u001b[0mss\u001b[0m \u001b[1;33m,\u001b[0m \u001b[1;33m]\u001b[0m\u001b[1;33m\u001b[0m\u001b[1;33m\u001b[0m\u001b[0m\n\u001b[0m",
      "\u001b[1;31mNameError\u001b[0m: name 'testObj' is not defined"
     ]
    }
   ],
   "source": [
    "fet = testObj.iloc[ss , ]"
   ]
  },
  {
   "cell_type": "code",
   "execution_count": null,
   "metadata": {},
   "outputs": [],
   "source": [
    "fet"
   ]
  },
  {
   "cell_type": "code",
   "execution_count": null,
   "metadata": {},
   "outputs": [],
   "source": [
    "print(cNumber)"
   ]
  },
  {
   "cell_type": "code",
   "execution_count": null,
   "metadata": {},
   "outputs": [],
   "source": [
    "count = 0"
   ]
  },
  {
   "cell_type": "code",
   "execution_count": null,
   "metadata": {},
   "outputs": [],
   "source": [
    "df"
   ]
  },
  {
   "cell_type": "code",
   "execution_count": null,
   "metadata": {},
   "outputs": [],
   "source": [
    "dat.shape"
   ]
  },
  {
   "cell_type": "code",
   "execution_count": null,
   "metadata": {},
   "outputs": [],
   "source": [
    "#Implementation of the new improved dataset onto a classifier."
   ]
  },
  {
   "cell_type": "code",
   "execution_count": 40,
   "metadata": {},
   "outputs": [
    {
     "name": "stdout",
     "output_type": "stream",
     "text": [
      "(494021, 18)\n",
      "(330994, 18) (163027, 18)\n",
      "(330994, 1) (163027, 1)\n"
     ]
    }
   ],
   "source": [
    "print(tt.shape)\n",
    "\n",
    "# Target variable and train set\n",
    "Y = df[['Attack Type']]\n",
    "X = tt\n",
    "\n",
    "sc = MinMaxScaler()\n",
    "X = sc.fit_transform(X)\n",
    "\n",
    "# Split test and train data \n",
    "X_train, X_test, Y_train, Y_test = train_test_split(X, Y, test_size=0.33, random_state=42)\n",
    "print(X_train.shape, X_test.shape)\n",
    "print(Y_train.shape, Y_test.shape)"
   ]
  },
  {
   "cell_type": "code",
   "execution_count": 41,
   "metadata": {},
   "outputs": [],
   "source": [
    "from sklearn.ensemble import RandomForestClassifier"
   ]
  },
  {
   "cell_type": "code",
   "execution_count": 42,
   "metadata": {},
   "outputs": [],
   "source": [
    "model3 = RandomForestClassifier(n_estimators=30)"
   ]
  },
  {
   "cell_type": "code",
   "execution_count": 43,
   "metadata": {},
   "outputs": [],
   "source": [
    "start_time = time.time()\n",
    "rf = model3.fit(X_train, Y_train.values.ravel())\n",
    "end_time = time.time()\n",
    "rf_train_time = end_time-start_time"
   ]
  },
  {
   "cell_type": "code",
   "execution_count": 44,
   "metadata": {},
   "outputs": [
    {
     "name": "stdout",
     "output_type": "stream",
     "text": [
      "Training time:  4.5397889614105225\n"
     ]
    }
   ],
   "source": [
    "print(\"Training time: \",end_time-start_time)"
   ]
  },
  {
   "cell_type": "code",
   "execution_count": 45,
   "metadata": {},
   "outputs": [],
   "source": [
    "start_time = time.time()\n",
    "Y_test_pred3 = model3.predict(X_test)\n",
    "end_time = time.time()\n",
    "rf_test_time = end_time-start_time"
   ]
  },
  {
   "cell_type": "code",
   "execution_count": 46,
   "metadata": {},
   "outputs": [
    {
     "name": "stdout",
     "output_type": "stream",
     "text": [
      "Testing time:  0.3351163864135742\n"
     ]
    }
   ],
   "source": [
    "print(\"Testing time: \",end_time-start_time)"
   ]
  },
  {
   "cell_type": "code",
   "execution_count": 47,
   "metadata": {},
   "outputs": [
    {
     "name": "stdout",
     "output_type": "stream",
     "text": [
      "Train score is: 0.9999637455663849\n",
      "Test score is: 0.9993988725793886\n"
     ]
    }
   ],
   "source": [
    "print(\"Train score is:\", model3.score(X_train, Y_train))\n",
    "print(\"Test score is:\",model3.score(X_test,Y_test))"
   ]
  },
  {
   "cell_type": "code",
   "execution_count": 48,
   "metadata": {},
   "outputs": [],
   "source": [
    "rf_test_score = model3.score(X_test,Y_test)\n",
    "rf_train_score = model3.score(X_train, Y_train)"
   ]
  },
  {
   "cell_type": "code",
   "execution_count": 49,
   "metadata": {},
   "outputs": [
    {
     "ename": "NameError",
     "evalue": "name 'fet' is not defined",
     "output_type": "error",
     "traceback": [
      "\u001b[1;31m---------------------------------------------------------------------------\u001b[0m",
      "\u001b[1;31mNameError\u001b[0m                                 Traceback (most recent call last)",
      "\u001b[1;32m<ipython-input-49-4683a6e067cc>\u001b[0m in \u001b[0;36m<module>\u001b[1;34m\u001b[0m\n\u001b[1;32m----> 1\u001b[1;33m \u001b[0mfet\u001b[0m\u001b[1;33m\u001b[0m\u001b[1;33m\u001b[0m\u001b[0m\n\u001b[0m",
      "\u001b[1;31mNameError\u001b[0m: name 'fet' is not defined"
     ]
    }
   ],
   "source": [
    "fet"
   ]
  },
  {
   "cell_type": "code",
   "execution_count": null,
   "metadata": {},
   "outputs": [],
   "source": [
    "#CNN Implementation"
   ]
  },
  {
   "cell_type": "code",
   "execution_count": 50,
   "metadata": {},
   "outputs": [
    {
     "ename": "NameError",
     "evalue": "name 'tes' is not defined",
     "output_type": "error",
     "traceback": [
      "\u001b[1;31m---------------------------------------------------------------------------\u001b[0m",
      "\u001b[1;31mNameError\u001b[0m                                 Traceback (most recent call last)",
      "\u001b[1;32m<ipython-input-50-5ebef6c9f0ca>\u001b[0m in \u001b[0;36m<module>\u001b[1;34m\u001b[0m\n\u001b[1;32m----> 1\u001b[1;33m \u001b[0mtes\u001b[0m\u001b[1;33m\u001b[0m\u001b[1;33m\u001b[0m\u001b[0m\n\u001b[0m",
      "\u001b[1;31mNameError\u001b[0m: name 'tes' is not defined"
     ]
    }
   ],
   "source": [
    "tes"
   ]
  },
  {
   "cell_type": "code",
   "execution_count": 52,
   "metadata": {},
   "outputs": [],
   "source": [
    "td = tt"
   ]
  },
  {
   "cell_type": "code",
   "execution_count": 53,
   "metadata": {},
   "outputs": [],
   "source": [
    "\n",
    "Y = df[['Attack Type']]"
   ]
  },
  {
   "cell_type": "code",
   "execution_count": 54,
   "metadata": {},
   "outputs": [],
   "source": [
    "\n",
    "lm = 16"
   ]
  },
  {
   "cell_type": "code",
   "execution_count": 55,
   "metadata": {},
   "outputs": [],
   "source": [
    "a = len(td.columns)"
   ]
  },
  {
   "cell_type": "code",
   "execution_count": 56,
   "metadata": {},
   "outputs": [
    {
     "data": {
      "text/plain": [
       "2"
      ]
     },
     "execution_count": 56,
     "metadata": {},
     "output_type": "execute_result"
    }
   ],
   "source": [
    "\n",
    "b = a-lm\n",
    "b"
   ]
  },
  {
   "cell_type": "code",
   "execution_count": 57,
   "metadata": {},
   "outputs": [],
   "source": [
    "count = 0"
   ]
  },
  {
   "cell_type": "code",
   "execution_count": 58,
   "metadata": {},
   "outputs": [],
   "source": [
    "for i in range(b):\n",
    "    count +=1\n",
    "    td = td.iloc[:,:-1]"
   ]
  },
  {
   "cell_type": "code",
   "execution_count": 59,
   "metadata": {},
   "outputs": [],
   "source": [
    "\n",
    "X = td"
   ]
  },
  {
   "cell_type": "code",
   "execution_count": 60,
   "metadata": {},
   "outputs": [
    {
     "data": {
      "text/html": [
       "<div>\n",
       "<style scoped>\n",
       "    .dataframe tbody tr th:only-of-type {\n",
       "        vertical-align: middle;\n",
       "    }\n",
       "\n",
       "    .dataframe tbody tr th {\n",
       "        vertical-align: top;\n",
       "    }\n",
       "\n",
       "    .dataframe thead th {\n",
       "        text-align: right;\n",
       "    }\n",
       "</style>\n",
       "<table border=\"1\" class=\"dataframe\">\n",
       "  <thead>\n",
       "    <tr style=\"text-align: right;\">\n",
       "      <th></th>\n",
       "      <th>protocol_type</th>\n",
       "      <th>dst_bytes</th>\n",
       "      <th>wrong_fragment</th>\n",
       "      <th>logged_in</th>\n",
       "      <th>num_compromised</th>\n",
       "      <th>num_file_creations</th>\n",
       "      <th>num_shells</th>\n",
       "      <th>is_host_login</th>\n",
       "      <th>is_guest_login</th>\n",
       "      <th>srv_count</th>\n",
       "      <th>serror_rate</th>\n",
       "      <th>same_srv_rate</th>\n",
       "      <th>diff_srv_rate</th>\n",
       "      <th>srv_diff_host_rate</th>\n",
       "      <th>dst_host_count</th>\n",
       "      <th>dst_host_srv_count</th>\n",
       "    </tr>\n",
       "  </thead>\n",
       "  <tbody>\n",
       "    <tr>\n",
       "      <th>0</th>\n",
       "      <td>1</td>\n",
       "      <td>5450</td>\n",
       "      <td>0</td>\n",
       "      <td>1</td>\n",
       "      <td>0</td>\n",
       "      <td>0</td>\n",
       "      <td>0</td>\n",
       "      <td>0</td>\n",
       "      <td>0</td>\n",
       "      <td>8</td>\n",
       "      <td>0.00</td>\n",
       "      <td>1.0</td>\n",
       "      <td>0.0</td>\n",
       "      <td>0.00</td>\n",
       "      <td>9</td>\n",
       "      <td>9</td>\n",
       "    </tr>\n",
       "    <tr>\n",
       "      <th>1</th>\n",
       "      <td>1</td>\n",
       "      <td>486</td>\n",
       "      <td>0</td>\n",
       "      <td>1</td>\n",
       "      <td>0</td>\n",
       "      <td>0</td>\n",
       "      <td>0</td>\n",
       "      <td>0</td>\n",
       "      <td>0</td>\n",
       "      <td>8</td>\n",
       "      <td>0.00</td>\n",
       "      <td>1.0</td>\n",
       "      <td>0.0</td>\n",
       "      <td>0.00</td>\n",
       "      <td>19</td>\n",
       "      <td>19</td>\n",
       "    </tr>\n",
       "    <tr>\n",
       "      <th>2</th>\n",
       "      <td>1</td>\n",
       "      <td>1337</td>\n",
       "      <td>0</td>\n",
       "      <td>1</td>\n",
       "      <td>0</td>\n",
       "      <td>0</td>\n",
       "      <td>0</td>\n",
       "      <td>0</td>\n",
       "      <td>0</td>\n",
       "      <td>8</td>\n",
       "      <td>0.00</td>\n",
       "      <td>1.0</td>\n",
       "      <td>0.0</td>\n",
       "      <td>0.00</td>\n",
       "      <td>29</td>\n",
       "      <td>29</td>\n",
       "    </tr>\n",
       "    <tr>\n",
       "      <th>3</th>\n",
       "      <td>1</td>\n",
       "      <td>1337</td>\n",
       "      <td>0</td>\n",
       "      <td>1</td>\n",
       "      <td>0</td>\n",
       "      <td>0</td>\n",
       "      <td>0</td>\n",
       "      <td>0</td>\n",
       "      <td>0</td>\n",
       "      <td>6</td>\n",
       "      <td>0.00</td>\n",
       "      <td>1.0</td>\n",
       "      <td>0.0</td>\n",
       "      <td>0.00</td>\n",
       "      <td>39</td>\n",
       "      <td>39</td>\n",
       "    </tr>\n",
       "    <tr>\n",
       "      <th>4</th>\n",
       "      <td>1</td>\n",
       "      <td>2032</td>\n",
       "      <td>0</td>\n",
       "      <td>1</td>\n",
       "      <td>0</td>\n",
       "      <td>0</td>\n",
       "      <td>0</td>\n",
       "      <td>0</td>\n",
       "      <td>0</td>\n",
       "      <td>6</td>\n",
       "      <td>0.00</td>\n",
       "      <td>1.0</td>\n",
       "      <td>0.0</td>\n",
       "      <td>0.00</td>\n",
       "      <td>49</td>\n",
       "      <td>49</td>\n",
       "    </tr>\n",
       "    <tr>\n",
       "      <th>...</th>\n",
       "      <td>...</td>\n",
       "      <td>...</td>\n",
       "      <td>...</td>\n",
       "      <td>...</td>\n",
       "      <td>...</td>\n",
       "      <td>...</td>\n",
       "      <td>...</td>\n",
       "      <td>...</td>\n",
       "      <td>...</td>\n",
       "      <td>...</td>\n",
       "      <td>...</td>\n",
       "      <td>...</td>\n",
       "      <td>...</td>\n",
       "      <td>...</td>\n",
       "      <td>...</td>\n",
       "      <td>...</td>\n",
       "    </tr>\n",
       "    <tr>\n",
       "      <th>494016</th>\n",
       "      <td>1</td>\n",
       "      <td>1881</td>\n",
       "      <td>0</td>\n",
       "      <td>1</td>\n",
       "      <td>0</td>\n",
       "      <td>0</td>\n",
       "      <td>0</td>\n",
       "      <td>0</td>\n",
       "      <td>0</td>\n",
       "      <td>5</td>\n",
       "      <td>0.00</td>\n",
       "      <td>1.0</td>\n",
       "      <td>0.0</td>\n",
       "      <td>0.40</td>\n",
       "      <td>86</td>\n",
       "      <td>255</td>\n",
       "    </tr>\n",
       "    <tr>\n",
       "      <th>494017</th>\n",
       "      <td>1</td>\n",
       "      <td>2286</td>\n",
       "      <td>0</td>\n",
       "      <td>1</td>\n",
       "      <td>0</td>\n",
       "      <td>0</td>\n",
       "      <td>0</td>\n",
       "      <td>0</td>\n",
       "      <td>0</td>\n",
       "      <td>6</td>\n",
       "      <td>0.00</td>\n",
       "      <td>1.0</td>\n",
       "      <td>0.0</td>\n",
       "      <td>0.00</td>\n",
       "      <td>6</td>\n",
       "      <td>255</td>\n",
       "    </tr>\n",
       "    <tr>\n",
       "      <th>494018</th>\n",
       "      <td>1</td>\n",
       "      <td>1200</td>\n",
       "      <td>0</td>\n",
       "      <td>1</td>\n",
       "      <td>0</td>\n",
       "      <td>0</td>\n",
       "      <td>0</td>\n",
       "      <td>0</td>\n",
       "      <td>0</td>\n",
       "      <td>18</td>\n",
       "      <td>0.17</td>\n",
       "      <td>1.0</td>\n",
       "      <td>0.0</td>\n",
       "      <td>0.17</td>\n",
       "      <td>16</td>\n",
       "      <td>255</td>\n",
       "    </tr>\n",
       "    <tr>\n",
       "      <th>494019</th>\n",
       "      <td>1</td>\n",
       "      <td>1200</td>\n",
       "      <td>0</td>\n",
       "      <td>1</td>\n",
       "      <td>0</td>\n",
       "      <td>0</td>\n",
       "      <td>0</td>\n",
       "      <td>0</td>\n",
       "      <td>0</td>\n",
       "      <td>12</td>\n",
       "      <td>0.00</td>\n",
       "      <td>1.0</td>\n",
       "      <td>0.0</td>\n",
       "      <td>0.17</td>\n",
       "      <td>26</td>\n",
       "      <td>255</td>\n",
       "    </tr>\n",
       "    <tr>\n",
       "      <th>494020</th>\n",
       "      <td>1</td>\n",
       "      <td>1234</td>\n",
       "      <td>0</td>\n",
       "      <td>1</td>\n",
       "      <td>0</td>\n",
       "      <td>0</td>\n",
       "      <td>0</td>\n",
       "      <td>0</td>\n",
       "      <td>0</td>\n",
       "      <td>35</td>\n",
       "      <td>0.00</td>\n",
       "      <td>1.0</td>\n",
       "      <td>0.0</td>\n",
       "      <td>0.14</td>\n",
       "      <td>6</td>\n",
       "      <td>255</td>\n",
       "    </tr>\n",
       "  </tbody>\n",
       "</table>\n",
       "<p>494021 rows × 16 columns</p>\n",
       "</div>"
      ],
      "text/plain": [
       "        protocol_type  dst_bytes  wrong_fragment  logged_in  num_compromised  \\\n",
       "0                   1       5450               0          1                0   \n",
       "1                   1        486               0          1                0   \n",
       "2                   1       1337               0          1                0   \n",
       "3                   1       1337               0          1                0   \n",
       "4                   1       2032               0          1                0   \n",
       "...               ...        ...             ...        ...              ...   \n",
       "494016              1       1881               0          1                0   \n",
       "494017              1       2286               0          1                0   \n",
       "494018              1       1200               0          1                0   \n",
       "494019              1       1200               0          1                0   \n",
       "494020              1       1234               0          1                0   \n",
       "\n",
       "        num_file_creations  num_shells  is_host_login  is_guest_login  \\\n",
       "0                        0           0              0               0   \n",
       "1                        0           0              0               0   \n",
       "2                        0           0              0               0   \n",
       "3                        0           0              0               0   \n",
       "4                        0           0              0               0   \n",
       "...                    ...         ...            ...             ...   \n",
       "494016                   0           0              0               0   \n",
       "494017                   0           0              0               0   \n",
       "494018                   0           0              0               0   \n",
       "494019                   0           0              0               0   \n",
       "494020                   0           0              0               0   \n",
       "\n",
       "        srv_count  serror_rate  same_srv_rate  diff_srv_rate  \\\n",
       "0               8         0.00            1.0            0.0   \n",
       "1               8         0.00            1.0            0.0   \n",
       "2               8         0.00            1.0            0.0   \n",
       "3               6         0.00            1.0            0.0   \n",
       "4               6         0.00            1.0            0.0   \n",
       "...           ...          ...            ...            ...   \n",
       "494016          5         0.00            1.0            0.0   \n",
       "494017          6         0.00            1.0            0.0   \n",
       "494018         18         0.17            1.0            0.0   \n",
       "494019         12         0.00            1.0            0.0   \n",
       "494020         35         0.00            1.0            0.0   \n",
       "\n",
       "        srv_diff_host_rate  dst_host_count  dst_host_srv_count  \n",
       "0                     0.00               9                   9  \n",
       "1                     0.00              19                  19  \n",
       "2                     0.00              29                  29  \n",
       "3                     0.00              39                  39  \n",
       "4                     0.00              49                  49  \n",
       "...                    ...             ...                 ...  \n",
       "494016                0.40              86                 255  \n",
       "494017                0.00               6                 255  \n",
       "494018                0.17              16                 255  \n",
       "494019                0.17              26                 255  \n",
       "494020                0.14               6                 255  \n",
       "\n",
       "[494021 rows x 16 columns]"
      ]
     },
     "execution_count": 60,
     "metadata": {},
     "output_type": "execute_result"
    }
   ],
   "source": [
    "\n",
    "X"
   ]
  },
  {
   "cell_type": "code",
   "execution_count": 61,
   "metadata": {},
   "outputs": [
    {
     "name": "stdout",
     "output_type": "stream",
     "text": [
      "x_train shape:  (494021, 4, 4, 1)\n"
     ]
    }
   ],
   "source": [
    "X = X.values.reshape(-1,4,4,1)\n",
    "\n",
    "print(\"x_train shape: \",X.shape)"
   ]
  },
  {
   "cell_type": "code",
   "execution_count": 62,
   "metadata": {},
   "outputs": [
    {
     "data": {
      "text/plain": [
       "(330994, 18)"
      ]
     },
     "execution_count": 62,
     "metadata": {},
     "output_type": "execute_result"
    }
   ],
   "source": [
    "X_train.shape"
   ]
  },
  {
   "cell_type": "code",
   "execution_count": 63,
   "metadata": {},
   "outputs": [
    {
     "name": "stdout",
     "output_type": "stream",
     "text": [
      "(330994, 4, 4, 1) (163027, 4, 4, 1)\n",
      "(330994, 10) (163027, 10)\n"
     ]
    }
   ],
   "source": [
    "from keras.utils.np_utils import to_categorical # convert to one-hot-encoding\n",
    "Y = to_categorical(Y, num_classes = 10)\n",
    "from sklearn.model_selection import train_test_split\n",
    "\n",
    "\n",
    "X_train, X_test, Y_train, Y_test = train_test_split(X, Y, test_size=0.33, random_state=42)\n",
    "print(X_train.shape, X_test.shape)\n",
    "print(Y_train.shape, Y_test.shape)"
   ]
  },
  {
   "cell_type": "code",
   "execution_count": 64,
   "metadata": {},
   "outputs": [
    {
     "data": {
      "text/plain": [
       "array([[0., 1., 0., ..., 0., 0., 0.],\n",
       "       [0., 0., 1., ..., 0., 0., 0.],\n",
       "       [0., 0., 1., ..., 0., 0., 0.],\n",
       "       ...,\n",
       "       [0., 0., 1., ..., 0., 0., 0.],\n",
       "       [0., 1., 0., ..., 0., 0., 0.],\n",
       "       [0., 0., 1., ..., 0., 0., 0.]], dtype=float32)"
      ]
     },
     "execution_count": 64,
     "metadata": {},
     "output_type": "execute_result"
    }
   ],
   "source": [
    "\n",
    "Y_train"
   ]
  },
  {
   "cell_type": "code",
   "execution_count": 65,
   "metadata": {},
   "outputs": [],
   "source": [
    "from sklearn.metrics import confusion_matrix\n",
    "import itertools\n",
    "\n",
    "from keras.utils.np_utils import to_categorical # convert to one-hot-encoding\n",
    "from tensorflow.keras.models import Sequential\n",
    "from tensorflow.keras.layers import Dense, Dropout, Flatten, Conv2D, MaxPool2D\n",
    "from tensorflow.keras.optimizers import RMSprop,Adam\n",
    "from tensorflow.keras.preprocessing.image import ImageDataGenerator\n",
    "from tensorflow.keras.callbacks import ReduceLROnPlateau\n",
    "\n",
    "model = Sequential()\n",
    "#\n",
    "model.add(Conv2D(filters = 8, kernel_size = (4,4),padding = 'Same', \n",
    "                 activation ='relu', input_shape = (4,4,1)))\n",
    "model.add(MaxPool2D(pool_size=(2,2)))\n",
    "model.add(Dropout(0.25))\n",
    "#\n",
    "model.add(Conv2D(filters = 16, kernel_size = (3,3),padding = 'Same', \n",
    "                 activation ='relu'))\n",
    "model.add(MaxPool2D(pool_size=(2,2), strides=(2,2)))\n",
    "model.add(Dropout(0.25))\n",
    "# fully connected\n",
    "model.add(Flatten())\n",
    "model.add(Dense(256, activation = \"relu\"))\n",
    "model.add(Dropout(0.5))\n",
    "model.add(Dense(10, activation = \"softmax\"))"
   ]
  },
  {
   "cell_type": "code",
   "execution_count": 66,
   "metadata": {},
   "outputs": [
    {
     "name": "stderr",
     "output_type": "stream",
     "text": [
      "C:\\Users\\BadWolf\\AppData\\Roaming\\Python\\Python38\\site-packages\\tensorflow\\python\\keras\\optimizer_v2\\optimizer_v2.py:374: UserWarning: The `lr` argument is deprecated, use `learning_rate` instead.\n",
      "  warnings.warn(\n"
     ]
    }
   ],
   "source": [
    "model.add(Dense(10, activation = \"softmax\"))\n",
    "optimizer = Adam(lr=0.001, beta_1=0.9, beta_2=0.999)"
   ]
  },
  {
   "cell_type": "code",
   "execution_count": 67,
   "metadata": {},
   "outputs": [],
   "source": [
    "model.compile(optimizer = optimizer , loss = \"categorical_crossentropy\", metrics=[\"accuracy\"])"
   ]
  },
  {
   "cell_type": "code",
   "execution_count": 68,
   "metadata": {},
   "outputs": [],
   "source": [
    "epochs = 10  # for better result increase the epochs\n",
    "batch_size = 250"
   ]
  },
  {
   "cell_type": "code",
   "execution_count": 69,
   "metadata": {},
   "outputs": [],
   "source": [
    "datagen = ImageDataGenerator(\n",
    "        featurewise_center=False,  # set input mean to 0 over the dataset\n",
    "        samplewise_center=False,  # set each sample mean to 0\n",
    "        featurewise_std_normalization=False,  # divide inputs by std of the dataset\n",
    "        samplewise_std_normalization=False,  # divide each input by its std\n",
    "        zca_whitening=False,  # dimesion reduction\n",
    "        rotation_range=5,  \n",
    "        zoom_range = 0.1, \n",
    "        width_shift_range=0.1,  \n",
    "        height_shift_range=0.1,  \n",
    "        horizontal_flip=False, \n",
    "        vertical_flip=False)  \n",
    "\n",
    "datagen.fit(X_train)"
   ]
  },
  {
   "cell_type": "code",
   "execution_count": 70,
   "metadata": {},
   "outputs": [],
   "source": [
    "start_time = time.time()"
   ]
  },
  {
   "cell_type": "code",
   "execution_count": 71,
   "metadata": {},
   "outputs": [
    {
     "name": "stderr",
     "output_type": "stream",
     "text": [
      "C:\\Users\\BadWolf\\AppData\\Roaming\\Python\\Python38\\site-packages\\tensorflow\\python\\keras\\engine\\training.py:1940: UserWarning: `Model.fit_generator` is deprecated and will be removed in a future version. Please use `Model.fit`, which supports generators.\n",
      "  warnings.warn('`Model.fit_generator` is deprecated and '\n"
     ]
    },
    {
     "name": "stdout",
     "output_type": "stream",
     "text": [
      "Epoch 1/5\n",
      "1323/1323 [==============================] - 41s 31ms/step - loss: 0.9770 - accuracy: 0.8114 - val_loss: 0.3563 - val_accuracy: 0.9688\n",
      "Epoch 2/5\n",
      "1323/1323 [==============================] - 41s 31ms/step - loss: 0.2180 - accuracy: 0.9721 - val_loss: 0.1755 - val_accuracy: 0.9695\n",
      "Epoch 3/5\n",
      "1323/1323 [==============================] - 41s 31ms/step - loss: 0.1392 - accuracy: 0.9743 - val_loss: 0.1286 - val_accuracy: 0.9735\n",
      "Epoch 4/5\n",
      "1323/1323 [==============================] - 41s 31ms/step - loss: 0.1158 - accuracy: 0.9747 - val_loss: 0.1009 - val_accuracy: 0.9737\n",
      "Epoch 5/5\n",
      "1323/1323 [==============================] - 41s 31ms/step - loss: 0.1036 - accuracy: 0.9751 - val_loss: 0.0968 - val_accuracy: 0.9725\n"
     ]
    }
   ],
   "source": [
    "history = model.fit_generator(datagen.flow(X_train,Y_train, batch_size=batch_size),\n",
    "                              epochs = epochs, validation_data = (X_test,Y_test), steps_per_epoch=X_train.shape[0] // batch_size)"
   ]
  },
  {
   "cell_type": "code",
   "execution_count": 72,
   "metadata": {},
   "outputs": [],
   "source": [
    "end_time = time.time()\n",
    "cnn_train_time = end_time-start_time\n",
    "cnn_accuracy = history.history['accuracy']"
   ]
  },
  {
   "cell_type": "code",
   "execution_count": 73,
   "metadata": {},
   "outputs": [
    {
     "data": {
      "text/plain": [
       "205.3909146785736"
      ]
     },
     "execution_count": 73,
     "metadata": {},
     "output_type": "execute_result"
    }
   ],
   "source": [
    "cnn_train_time"
   ]
  },
  {
   "cell_type": "code",
   "execution_count": 74,
   "metadata": {},
   "outputs": [
    {
     "data": {
      "image/png": "[encoded data removed]",
      "text/plain": [
       "<Figure size 432x288 with 1 Axes>"
      ]
     },
     "metadata": {
      "needs_background": "light"
     },
     "output_type": "display_data"
    }
   ],
   "source": [
    "import numpy as np # linear algebra\n",
    "import pandas as pd # data processing, CSV file I/O (e.g. pd.read_csv)\n",
    "import seaborn as sns\n",
    "import matplotlib.pyplot as plt\n",
    "# Plot the loss and accuracy curves for training and validation \n",
    "plt.plot(history.history['accuracy'], color='b', label=\"accuracy\")\n",
    "plt.title(\"Test Accuracy\")\n",
    "plt.xlabel(\"Number of Epochs\")\n",
    "plt.ylabel(\"Accuracy\")\n",
    "plt.legend()\n",
    "plt.show()"
   ]
  },
  {
   "cell_type": "code",
   "execution_count": 75,
   "metadata": {},
   "outputs": [],
   "source": [
    "#Implementation of other models and comparison"
   ]
  },
  {
   "cell_type": "code",
   "execution_count": 76,
   "metadata": {},
   "outputs": [],
   "source": [
    "from sklearn.model_selection import train_test_split\n",
    "from sklearn.preprocessing import MinMaxScaler\n",
    "from sklearn.metrics import accuracy_score"
   ]
  },
  {
   "cell_type": "code",
   "execution_count": 77,
   "metadata": {},
   "outputs": [
    {
     "name": "stdout",
     "output_type": "stream",
     "text": [
      "(330994, 18) (163027, 18)\n",
      "(330994, 1) (163027, 1)\n"
     ]
    }
   ],
   "source": [
    "# Target variable and train set\n",
    "Y = df[['Attack Type']]\n",
    "X = tt\n",
    "\n",
    "sc = MinMaxScaler()\n",
    "X = sc.fit_transform(X)\n",
    "\n",
    "# Split test and train data \n",
    "X_train, X_test, Y_train, Y_test = train_test_split(X, Y, test_size=0.33, random_state=42)\n",
    "print(X_train.shape, X_test.shape)\n",
    "print(Y_train.shape, Y_test.shape)"
   ]
  },
  {
   "cell_type": "code",
   "execution_count": 78,
   "metadata": {},
   "outputs": [],
   "source": [
    "# Gaussian Naive Bayes\n",
    "from sklearn.naive_bayes import GaussianNB"
   ]
  },
  {
   "cell_type": "code",
   "execution_count": 79,
   "metadata": {},
   "outputs": [],
   "source": [
    "model1 = GaussianNB()"
   ]
  },
  {
   "cell_type": "code",
   "execution_count": 80,
   "metadata": {},
   "outputs": [],
   "source": [
    "start_time = time.time()\n",
    "nb = model1.fit(X_train, Y_train.values.ravel())\n",
    "end_time = time.time()\n",
    "nb_train_time = end_time-start_time"
   ]
  },
  {
   "cell_type": "code",
   "execution_count": 81,
   "metadata": {},
   "outputs": [
    {
     "name": "stdout",
     "output_type": "stream",
     "text": [
      "Training time:  0.33610033988952637\n"
     ]
    }
   ],
   "source": [
    "print(\"Training time: \",end_time-start_time)"
   ]
  },
  {
   "cell_type": "code",
   "execution_count": 82,
   "metadata": {},
   "outputs": [],
   "source": [
    "start_time = time.time()\n",
    "Y_test_pred1 = model1.predict(X_test)\n",
    "end_time = time.time()\n",
    "nb_test_time = end_time-start_time"
   ]
  },
  {
   "cell_type": "code",
   "execution_count": 83,
   "metadata": {},
   "outputs": [
    {
     "name": "stdout",
     "output_type": "stream",
     "text": [
      "Testing time:  0.1351485252380371\n"
     ]
    }
   ],
   "source": [
    "print(\"Testing time: \",end_time-start_time)"
   ]
  },
  {
   "cell_type": "code",
   "execution_count": 84,
   "metadata": {},
   "outputs": [
    {
     "name": "stdout",
     "output_type": "stream",
     "text": [
      "Train score is: 0.8806292561194463\n",
      "Test score is: 0.8800260079618714\n"
     ]
    }
   ],
   "source": [
    "print(\"Train score is:\", model1.score(X_train, Y_train))\n",
    "print(\"Test score is:\",model1.score(X_test,Y_test))\n",
    "nb_train_accuracy = model1.score(X_train, Y_train)\n",
    "nb_test_accuracy = model1.score(X_test,Y_test)"
   ]
  },
  {
   "cell_type": "code",
   "execution_count": 85,
   "metadata": {},
   "outputs": [],
   "source": [
    "#Decision Tree \n",
    "from sklearn.tree import DecisionTreeClassifier"
   ]
  },
  {
   "cell_type": "code",
   "execution_count": 86,
   "metadata": {},
   "outputs": [],
   "source": [
    "model2 = DecisionTreeClassifier(criterion=\"entropy\", max_depth = 4)"
   ]
  },
  {
   "cell_type": "code",
   "execution_count": 87,
   "metadata": {},
   "outputs": [],
   "source": [
    "start_time = time.time()\n",
    "dt = model2.fit(X_train, Y_train.values.ravel())\n",
    "end_time = time.time()\n",
    "dt_train_time = end_time-start_time"
   ]
  },
  {
   "cell_type": "code",
   "execution_count": 88,
   "metadata": {},
   "outputs": [
    {
     "name": "stdout",
     "output_type": "stream",
     "text": [
      "Training time:  0.5533931255340576\n"
     ]
    }
   ],
   "source": [
    "print(\"Training time: \",end_time-start_time)"
   ]
  },
  {
   "cell_type": "code",
   "execution_count": 89,
   "metadata": {},
   "outputs": [],
   "source": [
    "start_time = time.time()\n",
    "Y_test_pred2 = model2.predict(X_test)\n",
    "end_time = time.time()\n",
    "dt_test_time = end_time-start_time"
   ]
  },
  {
   "cell_type": "code",
   "execution_count": 90,
   "metadata": {},
   "outputs": [
    {
     "name": "stdout",
     "output_type": "stream",
     "text": [
      "Testing time:  0.01195979118347168\n"
     ]
    }
   ],
   "source": [
    "print(\"Testing time: \",end_time-start_time)"
   ]
  },
  {
   "cell_type": "code",
   "execution_count": 91,
   "metadata": {},
   "outputs": [
    {
     "name": "stdout",
     "output_type": "stream",
     "text": [
      "Train score is: 0.9917883707861774\n",
      "Test score is: 0.9914001975132953\n"
     ]
    }
   ],
   "source": [
    "print(\"Train score is:\", model2.score(X_train, Y_train))\n",
    "print(\"Test score is:\",model2.score(X_test,Y_test))\n",
    "dt_train_score = model2.score(X_train, Y_train)\n",
    "dt_test_score = model2.score(X_test,Y_test)"
   ]
  },
  {
   "cell_type": "code",
   "execution_count": 92,
   "metadata": {},
   "outputs": [],
   "source": [
    "from sklearn.ensemble import RandomForestClassifier"
   ]
  },
  {
   "cell_type": "code",
   "execution_count": 93,
   "metadata": {},
   "outputs": [],
   "source": [
    "model3 = RandomForestClassifier(n_estimators=30)"
   ]
  },
  {
   "cell_type": "code",
   "execution_count": 94,
   "metadata": {},
   "outputs": [],
   "source": [
    "start_time = time.time()\n",
    "model3.fit(X_train, Y_train.values.ravel())\n",
    "end_time = time.time()"
   ]
  },
  {
   "cell_type": "code",
   "execution_count": 95,
   "metadata": {},
   "outputs": [
    {
     "name": "stdout",
     "output_type": "stream",
     "text": [
      "Training time:  4.385629177093506\n"
     ]
    }
   ],
   "source": [
    "print(\"Training time: \",end_time-start_time)"
   ]
  },
  {
   "cell_type": "code",
   "execution_count": 96,
   "metadata": {},
   "outputs": [],
   "source": [
    "start_time = time.time()\n",
    "Y_test_pred3 = model3.predict(X_test)\n",
    "end_time = time.time()"
   ]
  },
  {
   "cell_type": "code",
   "execution_count": 97,
   "metadata": {},
   "outputs": [
    {
     "name": "stdout",
     "output_type": "stream",
     "text": [
      "Testing time:  0.3321108818054199\n"
     ]
    }
   ],
   "source": [
    "print(\"Testing time: \",end_time-start_time)"
   ]
  },
  {
   "cell_type": "code",
   "execution_count": 98,
   "metadata": {},
   "outputs": [
    {
     "name": "stdout",
     "output_type": "stream",
     "text": [
      "Train score is: 0.9999637455663849\n",
      "Test score is: 0.9993988725793886\n"
     ]
    }
   ],
   "source": [
    "print(\"Train score is:\", model3.score(X_train, Y_train))\n",
    "print(\"Test score is:\",model3.score(X_test,Y_test))"
   ]
  },
  {
   "cell_type": "code",
   "execution_count": 99,
   "metadata": {},
   "outputs": [],
   "source": [
    "from sklearn.svm import SVC"
   ]
  },
  {
   "cell_type": "code",
   "execution_count": 100,
   "metadata": {},
   "outputs": [],
   "source": [
    "model4 = SVC(gamma = 'scale')"
   ]
  },
  {
   "cell_type": "code",
   "execution_count": 101,
   "metadata": {},
   "outputs": [],
   "source": [
    "start_time = time.time()\n",
    "sv = model4.fit(X_train, Y_train.values.ravel())\n",
    "end_time = time.time()\n",
    "sv_train_time = end_time-start_time"
   ]
  },
  {
   "cell_type": "code",
   "execution_count": 102,
   "metadata": {},
   "outputs": [
    {
     "name": "stdout",
     "output_type": "stream",
     "text": [
      "Training time:  194.23135662078857\n"
     ]
    }
   ],
   "source": [
    "print(\"Training time: \",end_time-start_time)"
   ]
  },
  {
   "cell_type": "code",
   "execution_count": 103,
   "metadata": {},
   "outputs": [],
   "source": [
    "start_time = time.time()\n",
    "Y_test_pred4 = model4.predict(X_test)\n",
    "end_time = time.time()\n",
    "sv_test_time = end_time-start_time"
   ]
  },
  {
   "cell_type": "code",
   "execution_count": 104,
   "metadata": {},
   "outputs": [
    {
     "name": "stdout",
     "output_type": "stream",
     "text": [
      "Testing time:  19.26202964782715\n"
     ]
    }
   ],
   "source": [
    "print(\"Testing time: \",end_time-start_time)"
   ]
  },
  {
   "cell_type": "code",
   "execution_count": 105,
   "metadata": {},
   "outputs": [
    {
     "name": "stdout",
     "output_type": "stream",
     "text": [
      "Train score is: 0.993601092466933\n",
      "Test score is: 0.9938292430088268\n"
     ]
    }
   ],
   "source": [
    "print(\"Train score is:\", model4.score(X_train, Y_train))\n",
    "print(\"Test score is:\", model4.score(X_test,Y_test))\n",
    "sv_train_score = model4.score(X_train, Y_train)\n",
    "sv_test_score = model4.score(X_test,Y_test)"
   ]
  },
  {
   "cell_type": "code",
   "execution_count": 106,
   "metadata": {},
   "outputs": [],
   "source": [
    "from sklearn.ensemble import GradientBoostingClassifier"
   ]
  },
  {
   "cell_type": "code",
   "execution_count": 107,
   "metadata": {},
   "outputs": [],
   "source": [
    "model6 = GradientBoostingClassifier(random_state=0)"
   ]
  },
  {
   "cell_type": "code",
   "execution_count": 108,
   "metadata": {},
   "outputs": [],
   "source": [
    "start_time = time.time()\n",
    "gb = model6.fit(X_train, Y_train.values.ravel())\n",
    "end_time = time.time()\n",
    "gb_train_time = end_time-start_time"
   ]
  },
  {
   "cell_type": "code",
   "execution_count": 109,
   "metadata": {},
   "outputs": [
    {
     "name": "stdout",
     "output_type": "stream",
     "text": [
      "Training time:  166.10827112197876\n"
     ]
    }
   ],
   "source": [
    "print(\"Training time: \",end_time-start_time)"
   ]
  },
  {
   "cell_type": "code",
   "execution_count": 110,
   "metadata": {},
   "outputs": [],
   "source": [
    "start_time = time.time()\n",
    "Y_test_pred6 = model6.predict(X_test)\n",
    "end_time = time.time()\n",
    "gb_test_time = end_time-start_time"
   ]
  },
  {
   "cell_type": "code",
   "execution_count": 111,
   "metadata": {},
   "outputs": [
    {
     "name": "stdout",
     "output_type": "stream",
     "text": [
      "Testing time:  0.6560332775115967\n"
     ]
    }
   ],
   "source": [
    "print(\"Testing time: \",end_time-start_time)"
   ]
  },
  {
   "cell_type": "code",
   "execution_count": 112,
   "metadata": {},
   "outputs": [
    {
     "name": "stdout",
     "output_type": "stream",
     "text": [
      "Train score is: 0.9986827555786509\n",
      "Test score is: 0.998478779588657\n"
     ]
    }
   ],
   "source": [
    "print(\"Train score is:\", model6.score(X_train, Y_train))\n",
    "print(\"Test score is:\", model6.score(X_test,Y_test))\n",
    "gb_train_score = model6.score(X_train, Y_train)\n",
    "gb_test_score = model6.score(X_test,Y_test)"
   ]
  },
  {
   "cell_type": "code",
   "execution_count": 113,
   "metadata": {},
   "outputs": [],
   "source": [
    "#Artificial Neural Network"
   ]
  },
  {
   "cell_type": "code",
   "execution_count": 114,
   "metadata": {},
   "outputs": [],
   "source": [
    "from keras.models import Sequential\n",
    "from keras.layers import Dense\n",
    "from keras.wrappers.scikit_learn import KerasClassifier"
   ]
  },
  {
   "cell_type": "code",
   "execution_count": 116,
   "metadata": {},
   "outputs": [],
   "source": [
    "size = len(tt.columns)"
   ]
  },
  {
   "cell_type": "code",
   "execution_count": 117,
   "metadata": {},
   "outputs": [
    {
     "data": {
      "text/plain": [
       "18"
      ]
     },
     "execution_count": 117,
     "metadata": {},
     "output_type": "execute_result"
    }
   ],
   "source": [
    "size"
   ]
  },
  {
   "cell_type": "code",
   "execution_count": 118,
   "metadata": {},
   "outputs": [],
   "source": [
    "def fun():\n",
    "    modelAnn = Sequential()\n",
    "    \n",
    "    #here 30 is output dimension\n",
    "    modelAnn.add(Dense(size,input_dim =size,activation = 'relu',kernel_initializer='random_uniform'))\n",
    "    \n",
    "    #in next layer we do not specify the input_dim as the model is sequential so output of previous layer is input to next layer\n",
    "    modelAnn.add(Dense(1,activation='sigmoid',kernel_initializer='random_uniform'))\n",
    "    \n",
    "    #5 classes-normal,dos,probe,r2l,u2r\n",
    "    modelAnn.add(Dense(5,activation='softmax'))\n",
    "    \n",
    "    #loss is categorical_crossentropy which specifies that we have multiple classes\n",
    "    \n",
    "    modelAnn.compile(loss ='categorical_crossentropy',optimizer = 'adam',metrics = ['accuracy'])\n",
    "    \n",
    "    return modelAnn"
   ]
  },
  {
   "cell_type": "code",
   "execution_count": 119,
   "metadata": {},
   "outputs": [
    {
     "data": {
      "text/plain": [
       "(330994, 18)"
      ]
     },
     "execution_count": 119,
     "metadata": {},
     "output_type": "execute_result"
    }
   ],
   "source": [
    "X_train.shape"
   ]
  },
  {
   "cell_type": "code",
   "execution_count": 120,
   "metadata": {},
   "outputs": [],
   "source": [
    "#Since,the dataset is very big and we cannot fit complete data at once so we use batch size.\n",
    "#This divides our data into batches each of size equal to batch_size.\n",
    "#Now only this number of samples will be loaded into memory and processed. \n",
    "#Once we are done with one batch it is flushed from memory and the next batch will be processed.\n",
    "model7 = KerasClassifier(build_fn=fun,epochs=100,batch_size=64)"
   ]
  },
  {
   "cell_type": "code",
   "execution_count": 121,
   "metadata": {},
   "outputs": [
    {
     "name": "stdout",
     "output_type": "stream",
     "text": [
      "Epoch 1/100\n",
      "5172/5172 [==============================] - 13s 439us/step - loss: 0.7196 - accuracy: 0.7628\n",
      "Epoch 2/100\n",
      "5172/5172 [==============================] - 2s 439us/step - loss: 0.0956 - accuracy: 0.9840\n",
      "Epoch 3/100\n",
      "5172/5172 [==============================] - 2s 437us/step - loss: 0.0736 - accuracy: 0.9843\n",
      "Epoch 4/100\n",
      "5172/5172 [==============================] - 2s 440us/step - loss: 0.0711 - accuracy: 0.9844\n",
      "Epoch 5/100\n",
      "5172/5172 [==============================] - 2s 443us/step - loss: 0.0692 - accuracy: 0.9846\n",
      "Epoch 6/100\n",
      "5172/5172 [==============================] - 2s 450us/step - loss: 0.0658 - accuracy: 0.9845\n",
      "Epoch 7/100\n",
      "5172/5172 [==============================] - 2s 443us/step - loss: 0.0613 - accuracy: 0.9842\n",
      "Epoch 8/100\n",
      "5172/5172 [==============================] - 2s 445us/step - loss: 0.0579 - accuracy: 0.9846\n",
      "Epoch 9/100\n",
      "5172/5172 [==============================] - 2s 442us/step - loss: 0.0560 - accuracy: 0.9849\n",
      "Epoch 10/100\n",
      "5172/5172 [==============================] - 2s 438us/step - loss: 0.0554 - accuracy: 0.9848\n",
      "Epoch 11/100\n",
      "5172/5172 [==============================] - 2s 440us/step - loss: 0.0548 - accuracy: 0.9845\n",
      "Epoch 12/100\n",
      "5172/5172 [==============================] - 2s 437us/step - loss: 0.0536 - accuracy: 0.9848\n",
      "Epoch 13/100\n",
      "5172/5172 [==============================] - 2s 437us/step - loss: 0.0530 - accuracy: 0.9849\n",
      "Epoch 14/100\n",
      "5172/5172 [==============================] - 2s 437us/step - loss: 0.0536 - accuracy: 0.9845\n",
      "Epoch 15/100\n",
      "5172/5172 [==============================] - 2s 442us/step - loss: 0.0512 - accuracy: 0.9849\n",
      "Epoch 16/100\n",
      "5172/5172 [==============================] - 2s 441us/step - loss: 0.0520 - accuracy: 0.9848\n",
      "Epoch 17/100\n",
      "5172/5172 [==============================] - 2s 441us/step - loss: 0.0517 - accuracy: 0.9849\n",
      "Epoch 18/100\n",
      "5172/5172 [==============================] - 2s 437us/step - loss: 0.0515 - accuracy: 0.9850\n",
      "Epoch 19/100\n",
      "5172/5172 [==============================] - 2s 440us/step - loss: 0.0507 - accuracy: 0.9854\n",
      "Epoch 20/100\n",
      "5172/5172 [==============================] - 2s 439us/step - loss: 0.0517 - accuracy: 0.9855\n",
      "Epoch 21/100\n",
      "5172/5172 [==============================] - 2s 437us/step - loss: 0.0530 - accuracy: 0.9850\n",
      "Epoch 22/100\n",
      "5172/5172 [==============================] - 2s 437us/step - loss: 0.0498 - accuracy: 0.9864\n",
      "Epoch 23/100\n",
      "5172/5172 [==============================] - 2s 438us/step - loss: 0.0499 - accuracy: 0.9862\n",
      "Epoch 24/100\n",
      "5172/5172 [==============================] - 2s 438us/step - loss: 0.0500 - accuracy: 0.9870\n",
      "Epoch 25/100\n",
      "5172/5172 [==============================] - 2s 439us/step - loss: 0.0500 - accuracy: 0.9869\n",
      "Epoch 26/100\n",
      "5172/5172 [==============================] - 2s 440us/step - loss: 0.0489 - accuracy: 0.9873\n",
      "Epoch 27/100\n",
      "5172/5172 [==============================] - 2s 440us/step - loss: 0.0509 - accuracy: 0.9875\n",
      "Epoch 28/100\n",
      "5172/5172 [==============================] - 2s 438us/step - loss: 0.0504 - accuracy: 0.9879\n",
      "Epoch 29/100\n",
      "5172/5172 [==============================] - 2s 438us/step - loss: 0.0504 - accuracy: 0.9879\n",
      "Epoch 30/100\n",
      "5172/5172 [==============================] - 2s 438us/step - loss: 0.0494 - accuracy: 0.9876\n",
      "Epoch 31/100\n",
      "5172/5172 [==============================] - 2s 438us/step - loss: 0.0500 - accuracy: 0.9892\n",
      "Epoch 32/100\n",
      "5172/5172 [==============================] - 2s 438us/step - loss: 0.0485 - accuracy: 0.9900\n",
      "Epoch 33/100\n",
      "5172/5172 [==============================] - 2s 438us/step - loss: 0.0478 - accuracy: 0.9912\n",
      "Epoch 34/100\n",
      "5172/5172 [==============================] - 2s 437us/step - loss: 0.0480 - accuracy: 0.9901\n",
      "Epoch 35/100\n",
      "5172/5172 [==============================] - 2s 440us/step - loss: 0.0492 - accuracy: 0.9908\n",
      "Epoch 36/100\n",
      "5172/5172 [==============================] - ETA: 0s - loss: 0.0481 - accuracy: 0.99 - 2s 439us/step - loss: 0.0481 - accuracy: 0.9908\n",
      "Epoch 37/100\n",
      "5172/5172 [==============================] - 2s 439us/step - loss: 0.0488 - accuracy: 0.9917\n",
      "Epoch 38/100\n",
      "5172/5172 [==============================] - 2s 438us/step - loss: 0.0493 - accuracy: 0.9912\n",
      "Epoch 39/100\n",
      "5172/5172 [==============================] - 2s 438us/step - loss: 0.0503 - accuracy: 0.9913\n",
      "Epoch 40/100\n",
      "5172/5172 [==============================] - 2s 437us/step - loss: 0.0477 - accuracy: 0.9920\n",
      "Epoch 41/100\n",
      "5172/5172 [==============================] - 2s 437us/step - loss: 0.0494 - accuracy: 0.9913\n",
      "Epoch 42/100\n",
      "5172/5172 [==============================] - 2s 437us/step - loss: 0.0495 - accuracy: 0.9917\n",
      "Epoch 43/100\n",
      "5172/5172 [==============================] - 2s 439us/step - loss: 0.0474 - accuracy: 0.9923\n",
      "Epoch 44/100\n",
      "5172/5172 [==============================] - 2s 438us/step - loss: 0.0483 - accuracy: 0.9920\n",
      "Epoch 45/100\n",
      "5172/5172 [==============================] - 2s 437us/step - loss: 0.0470 - accuracy: 0.9923\n",
      "Epoch 46/100\n",
      "5172/5172 [==============================] - 2s 440us/step - loss: 0.0481 - accuracy: 0.9919\n",
      "Epoch 47/100\n",
      "5172/5172 [==============================] - 2s 442us/step - loss: 0.0487 - accuracy: 0.9921\n",
      "Epoch 48/100\n",
      "5172/5172 [==============================] - 2s 443us/step - loss: 0.0488 - accuracy: 0.9918\n",
      "Epoch 49/100\n",
      "5172/5172 [==============================] - 2s 450us/step - loss: 0.0481 - accuracy: 0.9921\n",
      "Epoch 50/100\n",
      "5172/5172 [==============================] - 2s 446us/step - loss: 0.0478 - accuracy: 0.9922\n",
      "Epoch 51/100\n",
      "5172/5172 [==============================] - 2s 441us/step - loss: 0.0490 - accuracy: 0.9920\n",
      "Epoch 52/100\n",
      "5172/5172 [==============================] - 2s 439us/step - loss: 0.0498 - accuracy: 0.9920\n",
      "Epoch 53/100\n",
      "5172/5172 [==============================] - 2s 442us/step - loss: 0.0468 - accuracy: 0.9925\n",
      "Epoch 54/100\n",
      "5172/5172 [==============================] - 2s 438us/step - loss: 0.0487 - accuracy: 0.9920\n",
      "Epoch 55/100\n",
      "5172/5172 [==============================] - 2s 455us/step - loss: 0.0461 - accuracy: 0.9925\n",
      "Epoch 56/100\n",
      "5172/5172 [==============================] - 2s 457us/step - loss: 0.0479 - accuracy: 0.9921\n",
      "Epoch 57/100\n",
      "5172/5172 [==============================] - 2s 444us/step - loss: 0.0468 - accuracy: 0.9925\n",
      "Epoch 58/100\n",
      "5172/5172 [==============================] - 2s 450us/step - loss: 0.0474 - accuracy: 0.9925\n",
      "Epoch 59/100\n",
      "5172/5172 [==============================] - 2s 446us/step - loss: 0.0479 - accuracy: 0.9921\n",
      "Epoch 60/100\n",
      "5172/5172 [==============================] - 2s 447us/step - loss: 0.0476 - accuracy: 0.9923\n",
      "Epoch 61/100\n",
      "5172/5172 [==============================] - 2s 465us/step - loss: 0.0479 - accuracy: 0.9922\n",
      "Epoch 62/100\n",
      "5172/5172 [==============================] - 2s 444us/step - loss: 0.0474 - accuracy: 0.9924\n",
      "Epoch 63/100\n",
      "5172/5172 [==============================] - 2s 439us/step - loss: 0.0479 - accuracy: 0.9922\n",
      "Epoch 64/100\n",
      "5172/5172 [==============================] - 2s 440us/step - loss: 0.0466 - accuracy: 0.9925\n",
      "Epoch 65/100\n",
      "5172/5172 [==============================] - 2s 439us/step - loss: 0.0475 - accuracy: 0.9922\n",
      "Epoch 66/100\n",
      "5172/5172 [==============================] - 2s 439us/step - loss: 0.0477 - accuracy: 0.9923\n",
      "Epoch 67/100\n",
      "5172/5172 [==============================] - 2s 441us/step - loss: 0.0473 - accuracy: 0.9921\n",
      "Epoch 68/100\n",
      "5172/5172 [==============================] - 2s 439us/step - loss: 0.0467 - accuracy: 0.9923\n",
      "Epoch 69/100\n",
      "5172/5172 [==============================] - 2s 439us/step - loss: 0.0478 - accuracy: 0.9922\n",
      "Epoch 70/100\n",
      "5172/5172 [==============================] - 2s 439us/step - loss: 0.0478 - accuracy: 0.9922\n",
      "Epoch 71/100\n",
      "5172/5172 [==============================] - 2s 439us/step - loss: 0.0465 - accuracy: 0.9923\n",
      "Epoch 72/100\n",
      "5172/5172 [==============================] - 2s 440us/step - loss: 0.0471 - accuracy: 0.9918\n",
      "Epoch 73/100\n",
      "5172/5172 [==============================] - 2s 440us/step - loss: 0.0441 - accuracy: 0.9923\n",
      "Epoch 74/100\n",
      "5172/5172 [==============================] - 2s 441us/step - loss: 0.0428 - accuracy: 0.9920\n",
      "Epoch 75/100\n",
      "5172/5172 [==============================] - 2s 438us/step - loss: 0.0418 - accuracy: 0.9922\n",
      "Epoch 76/100\n",
      "5172/5172 [==============================] - 2s 439us/step - loss: 0.0404 - accuracy: 0.9920\n",
      "Epoch 77/100\n",
      "5172/5172 [==============================] - 2s 438us/step - loss: 0.0379 - accuracy: 0.9922\n"
     ]
    },
    {
     "name": "stdout",
     "output_type": "stream",
     "text": [
      "Epoch 78/100\n",
      "5172/5172 [==============================] - 2s 439us/step - loss: 0.0361 - accuracy: 0.9923\n",
      "Epoch 79/100\n",
      "5172/5172 [==============================] - 2s 438us/step - loss: 0.0354 - accuracy: 0.9923\n",
      "Epoch 80/100\n",
      "5172/5172 [==============================] - 2s 439us/step - loss: 0.0356 - accuracy: 0.9917\n",
      "Epoch 81/100\n",
      "5172/5172 [==============================] - 2s 439us/step - loss: 0.0349 - accuracy: 0.9920\n",
      "Epoch 82/100\n",
      "5172/5172 [==============================] - 2s 443us/step - loss: 0.0333 - accuracy: 0.9918\n",
      "Epoch 83/100\n",
      "5172/5172 [==============================] - 2s 445us/step - loss: 0.0333 - accuracy: 0.9920\n",
      "Epoch 84/100\n",
      "5172/5172 [==============================] - 2s 439us/step - loss: 0.0314 - accuracy: 0.9920\n",
      "Epoch 85/100\n",
      "5172/5172 [==============================] - 2s 441us/step - loss: 0.0310 - accuracy: 0.9918\n",
      "Epoch 86/100\n",
      "5172/5172 [==============================] - 2s 439us/step - loss: 0.0295 - accuracy: 0.9920\n",
      "Epoch 87/100\n",
      "5172/5172 [==============================] - 2s 441us/step - loss: 0.0296 - accuracy: 0.9918\n",
      "Epoch 88/100\n",
      "5172/5172 [==============================] - 2s 449us/step - loss: 0.0289 - accuracy: 0.9919\n",
      "Epoch 89/100\n",
      "5172/5172 [==============================] - 2s 446us/step - loss: 0.0281 - accuracy: 0.9919\n",
      "Epoch 90/100\n",
      "5172/5172 [==============================] - 2s 453us/step - loss: 0.0277 - accuracy: 0.9918\n",
      "Epoch 91/100\n",
      "5172/5172 [==============================] - 2s 445us/step - loss: 0.0269 - accuracy: 0.9921\n",
      "Epoch 92/100\n",
      "5172/5172 [==============================] - 2s 441us/step - loss: 0.0262 - accuracy: 0.9919\n",
      "Epoch 93/100\n",
      "5172/5172 [==============================] - 2s 439us/step - loss: 0.0261 - accuracy: 0.9917\n",
      "Epoch 94/100\n",
      "5172/5172 [==============================] - 2s 440us/step - loss: 0.0260 - accuracy: 0.9918\n",
      "Epoch 95/100\n",
      "5172/5172 [==============================] - 2s 438us/step - loss: 0.0255 - accuracy: 0.9920\n",
      "Epoch 96/100\n",
      "5172/5172 [==============================] - 2s 441us/step - loss: 0.0248 - accuracy: 0.9920\n",
      "Epoch 97/100\n",
      "5172/5172 [==============================] - 2s 438us/step - loss: 0.0249 - accuracy: 0.9919\n",
      "Epoch 98/100\n",
      "5172/5172 [==============================] - 2s 440us/step - loss: 0.0234 - accuracy: 0.9919\n",
      "Epoch 99/100\n",
      "5172/5172 [==============================] - 2s 441us/step - loss: 0.0243 - accuracy: 0.9920\n",
      "Epoch 100/100\n",
      "5172/5172 [==============================] - 2s 440us/step - loss: 0.0239 - accuracy: 0.9920\n"
     ]
    }
   ],
   "source": [
    "start = time.time()\n",
    "ann = model7.fit(X_train, Y_train.values.ravel())\n",
    "end = time.time()\n",
    "ann_train_time = end_time-start_time"
   ]
  },
  {
   "cell_type": "code",
   "execution_count": 122,
   "metadata": {},
   "outputs": [
    {
     "name": "stdout",
     "output_type": "stream",
     "text": [
      "Training time\n",
      "239.7168107032776\n"
     ]
    }
   ],
   "source": [
    "print('Training time')\n",
    "print((end-start))"
   ]
  },
  {
   "cell_type": "code",
   "execution_count": 123,
   "metadata": {},
   "outputs": [
    {
     "name": "stderr",
     "output_type": "stream",
     "text": [
      "C:\\Users\\BadWolf\\AppData\\Roaming\\Python\\Python38\\site-packages\\keras\\engine\\sequential.py:450: UserWarning: `model.predict_classes()` is deprecated and will be removed after 2021-01-01. Please use instead:* `np.argmax(model.predict(x), axis=-1)`,   if your model does multi-class classification   (e.g. if it uses a `softmax` last-layer activation).* `(model.predict(x) > 0.5).astype(\"int32\")`,   if your model does binary classification   (e.g. if it uses a `sigmoid` last-layer activation).\n",
      "  warnings.warn('`model.predict_classes()` is deprecated and '\n"
     ]
    }
   ],
   "source": [
    "start_time = time.time()\n",
    "Y_test_pred7 = model7.predict(X_test)\n",
    "end_time = time.time()\n",
    "ann_test_time = end_time-start_time"
   ]
  },
  {
   "cell_type": "code",
   "execution_count": 124,
   "metadata": {},
   "outputs": [
    {
     "name": "stdout",
     "output_type": "stream",
     "text": [
      "Testing time:  0.8099277019500732\n"
     ]
    }
   ],
   "source": [
    "print(\"Testing time: \",end_time-start_time)"
   ]
  },
  {
   "cell_type": "code",
   "execution_count": 125,
   "metadata": {},
   "outputs": [],
   "source": [
    "start_time = time.time()\n",
    "Y_train_pred7 = model7.predict(X_train)\n",
    "end_time = time.time()"
   ]
  },
  {
   "cell_type": "code",
   "execution_count": 126,
   "metadata": {},
   "outputs": [
    {
     "data": {
      "text/plain": [
       "0.9921841483531424"
      ]
     },
     "execution_count": 126,
     "metadata": {},
     "output_type": "execute_result"
    }
   ],
   "source": [
    "ann_train_score = accuracy_score(Y_train,Y_train_pred7)\n",
    "ann_train_score"
   ]
  },
  {
   "cell_type": "code",
   "execution_count": 127,
   "metadata": {},
   "outputs": [
    {
     "data": {
      "text/plain": [
       "0.992050396560079"
      ]
     },
     "execution_count": 127,
     "metadata": {},
     "output_type": "execute_result"
    }
   ],
   "source": [
    "ann_test_score = accuracy_score(Y_test,Y_test_pred7)\n",
    "ann_test_score"
   ]
  },
  {
   "cell_type": "code",
   "execution_count": 128,
   "metadata": {},
   "outputs": [],
   "source": [
    "#Training Accuracy"
   ]
  },
  {
   "cell_type": "code",
   "execution_count": 129,
   "metadata": {
    "scrolled": true
   },
   "outputs": [],
   "source": [
    "cnn_accuracy_train = cnn_accuracy[-1]"
   ]
  },
  {
   "cell_type": "code",
   "execution_count": null,
   "metadata": {},
   "outputs": [],
   "source": []
  },
  {
   "cell_type": "code",
   "execution_count": 130,
   "metadata": {},
   "outputs": [
    {
     "data": {
      "text/plain": [
       "<BarContainer object of 7 artists>"
      ]
     },
     "execution_count": 130,
     "metadata": {},
     "output_type": "execute_result"
    },
    {
     "data": {
      "image/png": "[encoded data removed]",
      "text/plain": [
       "<Figure size 1080x216 with 1 Axes>"
      ]
     },
     "metadata": {
      "needs_background": "light"
     },
     "output_type": "display_data"
    }
   ],
   "source": [
    "names = ['NB','DT','RF','SVM','GB','CNN','ANN']\n",
    "values = [nb_train_accuracy*100,dt_train_score*100,rf_train_score*100,sv_train_score*100,gb_train_score*100,cnn_accuracy_train*100,ann_train_score*100]\n",
    "f = plt.figure(figsize=(15,3),num=10)\n",
    "plt.subplot(131)\n",
    "#plt.ylim(80,102)\n",
    "plt.bar(names,values)"
   ]
  },
  {
   "cell_type": "code",
   "execution_count": 131,
   "metadata": {},
   "outputs": [],
   "source": [
    "f.savefig('training_accuracy_figure.png',bbox_inches='tight')"
   ]
  },
  {
   "cell_type": "code",
   "execution_count": 132,
   "metadata": {},
   "outputs": [],
   "source": [
    "#Testing Accuracy"
   ]
  },
  {
   "cell_type": "code",
   "execution_count": 133,
   "metadata": {},
   "outputs": [
    {
     "data": {
      "text/plain": [
       "<BarContainer object of 7 artists>"
      ]
     },
     "execution_count": 133,
     "metadata": {},
     "output_type": "execute_result"
    },
    {
     "data": {
      "image/png": "[encoded data removed]",
      "text/plain": [
       "<Figure size 1080x216 with 1 Axes>"
      ]
     },
     "metadata": {
      "needs_background": "light"
     },
     "output_type": "display_data"
    }
   ],
   "source": [
    "names = ['NB','DT','RF','SVM','GB','CNN','ANN']\n",
    "values = [nb_test_accuracy*100,dt_test_score*100,rf_test_score*100,sv_test_score*100,gb_test_score*100,cnn_accuracy_train*100,ann_test_score*100]\n",
    "f = plt.figure(figsize=(15,3),num=10)\n",
    "plt.subplot(131)\n",
    "#plt.ylim(80,102)\n",
    "plt.bar(names,values)"
   ]
  },
  {
   "cell_type": "code",
   "execution_count": 134,
   "metadata": {},
   "outputs": [],
   "source": [
    "f.savefig('test_accuracy_figure.png',bbox_inches='tight')"
   ]
  },
  {
   "cell_type": "code",
   "execution_count": 135,
   "metadata": {},
   "outputs": [],
   "source": [
    "#Training Time"
   ]
  },
  {
   "cell_type": "code",
   "execution_count": 136,
   "metadata": {},
   "outputs": [
    {
     "data": {
      "text/plain": [
       "<BarContainer object of 7 artists>"
      ]
     },
     "execution_count": 136,
     "metadata": {},
     "output_type": "execute_result"
    },
    {
     "data": {
      "image/png": "[encoded data removed]",
      "text/plain": [
       "<Figure size 1080x216 with 1 Axes>"
      ]
     },
     "metadata": {
      "needs_background": "light"
     },
     "output_type": "display_data"
    }
   ],
   "source": [
    "names = ['NB','DT','RF','SVM','GB','CNN','ANN']\n",
    "values = [nb_train_time,dt_train_time,rf_train_time,sv_train_time,gb_train_time,cnn_train_time,ann_train_time]\n",
    "f = plt.figure(figsize=(15,3),num=10)\n",
    "plt.subplot(131)\n",
    "plt.bar(names,values)"
   ]
  },
  {
   "cell_type": "code",
   "execution_count": 137,
   "metadata": {},
   "outputs": [],
   "source": [
    "f.savefig('train_time_figure.png',bbox_inches='tight')"
   ]
  },
  {
   "cell_type": "code",
   "execution_count": 138,
   "metadata": {},
   "outputs": [],
   "source": [
    "#Testing Time"
   ]
  },
  {
   "cell_type": "code",
   "execution_count": 139,
   "metadata": {},
   "outputs": [
    {
     "data": {
      "text/plain": [
       "<BarContainer object of 7 artists>"
      ]
     },
     "execution_count": 139,
     "metadata": {},
     "output_type": "execute_result"
    },
    {
     "data": {
      "image/png": "[encoded data removed]",
      "text/plain": [
       "<Figure size 1080x216 with 1 Axes>"
      ]
     },
     "metadata": {
      "needs_background": "light"
     },
     "output_type": "display_data"
    }
   ],
   "source": [
    "names = ['NB','DT','RF','SVM','GB','CNN','ANN']\n",
    "values = [nb_test_time,dt_test_time,rf_test_time,sv_test_time,gb_test_time,0.833560,ann_test_time]\n",
    "f = plt.figure(figsize=(15,3),num=10)\n",
    "plt.subplot(131)\n",
    "plt.bar(names,values)"
   ]
  },
  {
   "cell_type": "code",
   "execution_count": 140,
   "metadata": {},
   "outputs": [],
   "source": [
    "f.savefig('test_time_figure.png',bbox_inches='tight')"
   ]
  },
  {
   "cell_type": "code",
   "execution_count": null,
   "metadata": {},
   "outputs": [],
   "source": []
  },
  {
   "cell_type": "code",
   "execution_count": null,
   "metadata": {},
   "outputs": [],
   "source": []
  }
 ],
 "metadata": {
  "kernelspec": {
   "display_name": "Python 3",
   "language": "python",
   "name": "python3"
  },
  "language_info": {
   "codemirror_mode": {
    "name": "ipython",
    "version": 3
   },
   "file_extension": ".py",
   "mimetype": "text/x-python",
   "name": "python",
   "nbconvert_exporter": "python",
   "pygments_lexer": "ipython3",
   "version": "3.8.3"
  }
 },
 "nbformat": 4,
 "nbformat_minor": 4
}
