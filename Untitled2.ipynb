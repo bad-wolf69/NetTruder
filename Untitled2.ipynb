{
 "cells": [
  {
   "cell_type": "code",
   "execution_count": 39,
   "metadata": {},
   "outputs": [],
   "source": [
    "from datetime import datetime\n",
    "import mysql.connector\n",
    "from sys import exit\n",
    "\n",
    "HOST = \"localhost\"\n",
    "USER = \"root\"\n",
    "PASSWORD = \"root\"\n",
    "DATABASE = \"hotel\""
   ]
  },
  {
   "cell_type": "code",
   "execution_count": 44,
   "metadata": {
    "scrolled": true
   },
   "outputs": [
    {
     "ename": "NotSupportedError",
     "evalue": "Authentication plugin 'caching_sha2_password' is not supported",
     "output_type": "error",
     "traceback": [
      "\u001b[1;31m---------------------------------------------------------------------------\u001b[0m",
      "\u001b[1;31mNotSupportedError\u001b[0m                         Traceback (most recent call last)",
      "\u001b[1;32m<ipython-input-44-44dbbf00d3d0>\u001b[0m in \u001b[0;36m<module>\u001b[1;34m\u001b[0m\n\u001b[1;32m----> 1\u001b[1;33m database = mysql.connector.connect(\n\u001b[0m\u001b[0;32m      2\u001b[0m             \u001b[0mhost\u001b[0m\u001b[1;33m=\u001b[0m\u001b[1;34m\"localhost\"\u001b[0m\u001b[1;33m,\u001b[0m\u001b[1;33m\u001b[0m\u001b[1;33m\u001b[0m\u001b[0m\n\u001b[0;32m      3\u001b[0m             \u001b[0muser\u001b[0m\u001b[1;33m=\u001b[0m\u001b[1;34m\"noel\"\u001b[0m\u001b[1;33m,\u001b[0m\u001b[1;33m\u001b[0m\u001b[1;33m\u001b[0m\u001b[0m\n\u001b[0;32m      4\u001b[0m             \u001b[0mpassword\u001b[0m\u001b[1;33m=\u001b[0m\u001b[1;34m\"root\"\u001b[0m\u001b[1;33m,\u001b[0m\u001b[1;33m\u001b[0m\u001b[1;33m\u001b[0m\u001b[0m\n\u001b[0;32m      5\u001b[0m             \u001b[0mauth_plugin\u001b[0m\u001b[1;33m=\u001b[0m\u001b[1;34m'mysql_native_password'\u001b[0m\u001b[1;33m\u001b[0m\u001b[1;33m\u001b[0m\u001b[0m\n",
      "\u001b[1;32m~\\anaconda3\\lib\\site-packages\\mysql\\connector\\__init__.py\u001b[0m in \u001b[0;36mconnect\u001b[1;34m(*args, **kwargs)\u001b[0m\n\u001b[0;32m    177\u001b[0m             \u001b[0mnew_config\u001b[0m\u001b[1;33m.\u001b[0m\u001b[0mupdate\u001b[0m\u001b[1;33m(\u001b[0m\u001b[0mserver\u001b[0m\u001b[1;33m)\u001b[0m\u001b[1;33m\u001b[0m\u001b[1;33m\u001b[0m\u001b[0m\n\u001b[0;32m    178\u001b[0m             \u001b[0mnew_config\u001b[0m\u001b[1;33m.\u001b[0m\u001b[0mpop\u001b[0m\u001b[1;33m(\u001b[0m\u001b[1;34m'priority'\u001b[0m\u001b[1;33m,\u001b[0m \u001b[1;32mNone\u001b[0m\u001b[1;33m)\u001b[0m\u001b[1;33m\u001b[0m\u001b[1;33m\u001b[0m\u001b[0m\n\u001b[1;32m--> 179\u001b[1;33m             \u001b[1;32mtry\u001b[0m\u001b[1;33m:\u001b[0m\u001b[1;33m\u001b[0m\u001b[1;33m\u001b[0m\u001b[0m\n\u001b[0m\u001b[0;32m    180\u001b[0m                 \u001b[1;32mreturn\u001b[0m \u001b[0mconnect\u001b[0m\u001b[1;33m(\u001b[0m\u001b[1;33m**\u001b[0m\u001b[0mnew_config\u001b[0m\u001b[1;33m)\u001b[0m\u001b[1;33m\u001b[0m\u001b[1;33m\u001b[0m\u001b[0m\n\u001b[0;32m    181\u001b[0m             \u001b[1;32mexcept\u001b[0m \u001b[0mError\u001b[0m\u001b[1;33m:\u001b[0m\u001b[1;33m\u001b[0m\u001b[1;33m\u001b[0m\u001b[0m\n",
      "\u001b[1;32m~\\anaconda3\\lib\\site-packages\\mysql\\connector\\connection.py\u001b[0m in \u001b[0;36m__init__\u001b[1;34m(self, *args, **kwargs)\u001b[0m\n\u001b[0;32m     93\u001b[0m         \u001b[0mself\u001b[0m\u001b[1;33m.\u001b[0m\u001b[0m_raw\u001b[0m \u001b[1;33m=\u001b[0m \u001b[1;32mFalse\u001b[0m\u001b[1;33m\u001b[0m\u001b[1;33m\u001b[0m\u001b[0m\n\u001b[0;32m     94\u001b[0m         \u001b[0mself\u001b[0m\u001b[1;33m.\u001b[0m\u001b[0m_in_transaction\u001b[0m \u001b[1;33m=\u001b[0m \u001b[1;32mFalse\u001b[0m\u001b[1;33m\u001b[0m\u001b[1;33m\u001b[0m\u001b[0m\n\u001b[1;32m---> 95\u001b[1;33m \u001b[1;33m\u001b[0m\u001b[0m\n\u001b[0m\u001b[0;32m     96\u001b[0m         \u001b[0mself\u001b[0m\u001b[1;33m.\u001b[0m\u001b[0m_prepared_statements\u001b[0m \u001b[1;33m=\u001b[0m \u001b[1;32mNone\u001b[0m\u001b[1;33m\u001b[0m\u001b[1;33m\u001b[0m\u001b[0m\n\u001b[0;32m     97\u001b[0m \u001b[1;33m\u001b[0m\u001b[0m\n",
      "\u001b[1;32m~\\anaconda3\\lib\\site-packages\\mysql\\connector\\abstracts.py\u001b[0m in \u001b[0;36mconnect\u001b[1;34m(self, **kwargs)\u001b[0m\n\u001b[0;32m    714\u001b[0m             raise errors.ProgrammingError(\n\u001b[0;32m    715\u001b[0m                 \"set_client_flags expect integer (>0) or set\")\n\u001b[1;32m--> 716\u001b[1;33m         \u001b[1;32mreturn\u001b[0m \u001b[0mself\u001b[0m\u001b[1;33m.\u001b[0m\u001b[0m_client_flags\u001b[0m\u001b[1;33m\u001b[0m\u001b[1;33m\u001b[0m\u001b[0m\n\u001b[0m\u001b[0;32m    717\u001b[0m \u001b[1;33m\u001b[0m\u001b[0m\n\u001b[0;32m    718\u001b[0m     \u001b[1;32mdef\u001b[0m \u001b[0misset_client_flag\u001b[0m\u001b[1;33m(\u001b[0m\u001b[0mself\u001b[0m\u001b[1;33m,\u001b[0m \u001b[0mflag\u001b[0m\u001b[1;33m)\u001b[0m\u001b[1;33m:\u001b[0m\u001b[1;33m\u001b[0m\u001b[1;33m\u001b[0m\u001b[0m\n",
      "\u001b[1;32m~\\anaconda3\\lib\\site-packages\\mysql\\connector\\connection.py\u001b[0m in \u001b[0;36m_open_connection\u001b[1;34m(self)\u001b[0m\n\u001b[0;32m    206\u001b[0m                                        \u001b[1;32mFalse\u001b[0m\u001b[1;33m,\u001b[0m\u001b[1;33m\u001b[0m\u001b[1;33m\u001b[0m\u001b[0m\n\u001b[0;32m    207\u001b[0m                                        \u001b[0mtls_ciphersuites\u001b[0m\u001b[1;33m,\u001b[0m\u001b[1;33m\u001b[0m\u001b[1;33m\u001b[0m\u001b[0m\n\u001b[1;32m--> 208\u001b[1;33m                                        ssl_options.get('tls_versions'))\n\u001b[0m\u001b[0;32m    209\u001b[0m             \u001b[0mself\u001b[0m\u001b[1;33m.\u001b[0m\u001b[0m_ssl_active\u001b[0m \u001b[1;33m=\u001b[0m \u001b[1;32mTrue\u001b[0m\u001b[1;33m\u001b[0m\u001b[1;33m\u001b[0m\u001b[0m\n\u001b[0;32m    210\u001b[0m \u001b[1;33m\u001b[0m\u001b[0m\n",
      "\u001b[1;32m~\\anaconda3\\lib\\site-packages\\mysql\\connector\\connection.py\u001b[0m in \u001b[0;36m_do_auth\u001b[1;34m(self, username, password, database, client_flags, charset, ssl_options)\u001b[0m\n\u001b[0;32m    142\u001b[0m             \u001b[1;34m\"_client_version\"\u001b[0m\u001b[1;33m:\u001b[0m \u001b[1;34m\".\"\u001b[0m\u001b[1;33m.\u001b[0m\u001b[0mjoin\u001b[0m\u001b[1;33m(\u001b[0m\u001b[1;33m[\u001b[0m\u001b[0mstr\u001b[0m\u001b[1;33m(\u001b[0m\u001b[0mx\u001b[0m\u001b[1;33m)\u001b[0m \u001b[1;32mfor\u001b[0m \u001b[0mx\u001b[0m \u001b[1;32min\u001b[0m \u001b[0mversion\u001b[0m\u001b[1;33m.\u001b[0m\u001b[0mVERSION\u001b[0m\u001b[1;33m[\u001b[0m\u001b[1;36m0\u001b[0m\u001b[1;33m:\u001b[0m\u001b[1;36m3\u001b[0m\u001b[1;33m]\u001b[0m\u001b[1;33m]\u001b[0m\u001b[1;33m)\u001b[0m\u001b[1;33m,\u001b[0m\u001b[1;33m\u001b[0m\u001b[1;33m\u001b[0m\u001b[0m\n\u001b[0;32m    143\u001b[0m             \"_os\": os_ver}\n\u001b[1;32m--> 144\u001b[1;33m \u001b[1;33m\u001b[0m\u001b[0m\n\u001b[0m\u001b[0;32m    145\u001b[0m         \u001b[0mself\u001b[0m\u001b[1;33m.\u001b[0m\u001b[0m_conn_attrs\u001b[0m\u001b[1;33m.\u001b[0m\u001b[0mupdate\u001b[0m\u001b[1;33m(\u001b[0m\u001b[1;33m(\u001b[0m\u001b[0mdefault_conn_attrs\u001b[0m\u001b[1;33m)\u001b[0m\u001b[1;33m)\u001b[0m\u001b[1;33m\u001b[0m\u001b[1;33m\u001b[0m\u001b[0m\n\u001b[0;32m    146\u001b[0m \u001b[1;33m\u001b[0m\u001b[0m\n",
      "\u001b[1;32m~\\anaconda3\\lib\\site-packages\\mysql\\connector\\connection.py\u001b[0m in \u001b[0;36m_auth_switch_request\u001b[1;34m(self, username, password)\u001b[0m\n\u001b[0;32m    165\u001b[0m             \u001b[1;32mif\u001b[0m \u001b[0mself\u001b[0m\u001b[1;33m.\u001b[0m\u001b[0m_auth_plugin\u001b[0m \u001b[1;33m==\u001b[0m \u001b[1;34m\"mysql_clear_password\"\u001b[0m\u001b[1;33m:\u001b[0m\u001b[1;33m\u001b[0m\u001b[1;33m\u001b[0m\u001b[0m\n\u001b[0;32m    166\u001b[0m                 err_msg = (\"Clear password authentication is not supported \"\n\u001b[1;32m--> 167\u001b[1;33m                            \"over insecure channels\")\n\u001b[0m\u001b[0;32m    168\u001b[0m                 \u001b[1;32mraise\u001b[0m \u001b[0merrors\u001b[0m\u001b[1;33m.\u001b[0m\u001b[0mInterfaceError\u001b[0m\u001b[1;33m(\u001b[0m\u001b[0merr_msg\u001b[0m\u001b[1;33m)\u001b[0m\u001b[1;33m\u001b[0m\u001b[1;33m\u001b[0m\u001b[0m\n\u001b[0;32m    169\u001b[0m             \u001b[1;32mif\u001b[0m \u001b[0mself\u001b[0m\u001b[1;33m.\u001b[0m\u001b[0m_ssl\u001b[0m\u001b[1;33m.\u001b[0m\u001b[0mget\u001b[0m\u001b[1;33m(\u001b[0m\u001b[1;34m'verify_cert'\u001b[0m\u001b[1;33m)\u001b[0m\u001b[1;33m:\u001b[0m\u001b[1;33m\u001b[0m\u001b[1;33m\u001b[0m\u001b[0m\n",
      "\u001b[1;32m~\\anaconda3\\lib\\site-packages\\mysql\\connector\\authentication.py\u001b[0m in \u001b[0;36mget_auth_plugin\u001b[1;34m(plugin_name)\u001b[0m\n\u001b[0;32m    188\u001b[0m \u001b[1;33m\u001b[0m\u001b[0m\n\u001b[0;32m    189\u001b[0m     \u001b[1;32mdef\u001b[0m \u001b[0m_scramble\u001b[0m\u001b[1;33m(\u001b[0m\u001b[0mself\u001b[0m\u001b[1;33m)\u001b[0m\u001b[1;33m:\u001b[0m\u001b[1;33m\u001b[0m\u001b[1;33m\u001b[0m\u001b[0m\n\u001b[1;32m--> 190\u001b[1;33m         \"\"\" Returns a scramble of the password using a Nonce sent by the\n\u001b[0m\u001b[0;32m    191\u001b[0m         \u001b[0mserver\u001b[0m\u001b[1;33m.\u001b[0m\u001b[1;33m\u001b[0m\u001b[1;33m\u001b[0m\u001b[0m\n\u001b[0;32m    192\u001b[0m \u001b[1;33m\u001b[0m\u001b[0m\n",
      "\u001b[1;31mNotSupportedError\u001b[0m: Authentication plugin 'caching_sha2_password' is not supported"
     ]
    }
   ],
   "source": [
    "database = mysql.connector.connect(\n",
    "            host=\"localhost\",\n",
    "            user=\"noel\",\n",
    "            password=\"root\",\n",
    "            auth_plugin='mysql_native_password'\n",
    "            \n",
    "        )\n",
    "\n",
    "\n",
    "mycursor = database.cursor()"
   ]
  },
  {
   "cell_type": "code",
   "execution_count": null,
   "metadata": {},
   "outputs": [],
   "source": [
    "!pip uninstall mysql-connector"
   ]
  },
  {
   "cell_type": "code",
   "execution_count": 37,
   "metadata": {},
   "outputs": [],
   "source": [
    "def get_database():\n",
    "    try:\n",
    "        database = mysql.connector.connect(\n",
    "            host=\"localhost\",\n",
    "            user=\"noel\",\n",
    "            password=\"root\",\n",
    "            database=DATABASE\n",
    "        )\n",
    "        cursor = database.cursor(dictionary=True)\n",
    "        return database, cursor\n",
    "    except mysql.connector.Error:\n",
    "        return None, None\n"
   ]
  },
  {
   "cell_type": "code",
   "execution_count": 7,
   "metadata": {},
   "outputs": [],
   "source": [
    "SCREEN_WIDTH = 50"
   ]
  },
  {
   "cell_type": "code",
   "execution_count": 8,
   "metadata": {},
   "outputs": [],
   "source": [
    "def print_center(s):\n",
    "    x_pos = SCREEN_WIDTH // 2\n",
    "    print((\" \" * x_pos), s)\n",
    "\n",
    "\n",
    "def print_bar():\n",
    "    print(\"=\" * 100)\n",
    "\n",
    "\n",
    "def print_bar_ln():\n",
    "    print_bar()\n",
    "    print()\n",
    "\n",
    "\n",
    "def input_center(s):\n",
    "    x_pos = SCREEN_WIDTH // 2\n",
    "    print((\" \" * x_pos), s, end='')\n",
    "    return input()"
   ]
  },
  {
   "cell_type": "code",
   "execution_count": 9,
   "metadata": {},
   "outputs": [],
   "source": [
    "ROOMS_TABLE_NAME = \"rooms\"\n"
   ]
  },
  {
   "cell_type": "code",
   "execution_count": 10,
   "metadata": {},
   "outputs": [],
   "source": [
    "class Room:\n",
    "    def __init__(self):\n",
    "        self.room_id = 0\n",
    "        self.room_no = 0\n",
    "        self.floor = \"\"\n",
    "        self.beds = \"\"\n",
    "        self.available = \"\"\n",
    "\n",
    "    def create(self, room_id, room_no, floor, beds, available):\n",
    "        self.room_id = room_id\n",
    "        self.room_no = room_no\n",
    "        self.floor = floor\n",
    "        self.beds = beds\n",
    "        self.available = available\n",
    "        return self\n",
    "\n",
    "    def create_from_record(self, record):\n",
    "        self.room_id = record['id']\n",
    "        self.room_no = record['room_no']\n",
    "        self.floor = record['floor']\n",
    "        self.beds = record['beds']\n",
    "        self.available = record['available']\n",
    "        return self\n",
    "\n",
    "    def print_all(self):\n",
    "        print(str(self.room_id).ljust(3),\n",
    "              str(self.room_no).ljust(15),\n",
    "              self.floor.ljust(15),\n",
    "              str(self.beds).ljust(15),\n",
    "              str(self.available).ljust(15))\n",
    "\n",
    "    def print_full(self):\n",
    "        print_bar()\n",
    "        print(\"Record #\", self.room_id)\n",
    "        print(\"Room No: \", self.room_no)\n",
    "        print(\"Floor: \", self.floor)\n",
    "        print(\"Beds: \", self.beds)\n",
    "        print(\"available: \", self.available)\n",
    "        print_bar()"
   ]
  },
  {
   "cell_type": "code",
   "execution_count": 11,
   "metadata": {},
   "outputs": [],
   "source": [
    "def create_room():\n",
    "    room_id = None\n",
    "    room_no = int(input(\"Enter the room no: \"))\n",
    "    floor = input(\"Enter the floor (Ex. ground, first etc.): \")\n",
    "    beds = int(input(\"Enter number of beds: \"))\n",
    "    available = True\n",
    "    return Room().create(room_id, room_no, floor, beds, available)\n"
   ]
  },
  {
   "cell_type": "code",
   "execution_count": 12,
   "metadata": {},
   "outputs": [],
   "source": [
    "def print_room_header():\n",
    "    print(\"=\"*100)\n",
    "    print(\"id\".ljust(3),\n",
    "          \"room no\".ljust(15),\n",
    "          \"floor\".ljust(15),\n",
    "          \"beds\".ljust(15),\n",
    "          \"available\".ljust(15)\n",
    "          )\n",
    "    print(\"=\"*100)"
   ]
  },
  {
   "cell_type": "code",
   "execution_count": 13,
   "metadata": {},
   "outputs": [],
   "source": [
    "def create_rooms_table(database):\n",
    "    cursor = database.cursor()\n",
    "    cursor.execute(\"DROP table if exists {0}\".format(ROOMS_TABLE_NAME))\n",
    "    cursor.execute(\"create table {0} (\"\n",
    "                   \"id int primary key auto_increment,\"\n",
    "                   \"room_no int,\"\n",
    "                   \"floor varchar(50),\"\n",
    "                   \"beds int,\"\n",
    "                   \"available bool)\".format(ROOMS_TABLE_NAME))"
   ]
  },
  {
   "cell_type": "code",
   "execution_count": 14,
   "metadata": {},
   "outputs": [],
   "source": [
    "def add_room(database, cursor):\n",
    "    room = create_room()\n",
    "    query = \"insert into {0}(room_no,floor,beds,available) values({1},'{2}',{3},{4})\".\\\n",
    "            format(ROOMS_TABLE_NAME, room.room_no, room.floor, room.beds, room.available)\n",
    "    try:\n",
    "        cursor.execute(query)\n",
    "        database.commit()\n",
    "    except mysql.connector.Error as err:\n",
    "        create_rooms_table(database)\n",
    "        cursor.execute(query)\n",
    "        database.commit()\n",
    "    print(\"Operation Successful\")\n"
   ]
  },
  {
   "cell_type": "code",
   "execution_count": 15,
   "metadata": {},
   "outputs": [],
   "source": [
    "def show_room_record(cursor, query):\n",
    "    try:\n",
    "        cursor.execute(query)\n",
    "        records = cursor.fetchall()\n",
    "        if cursor.rowcount == 0:\n",
    "            print(\"No Matching Records\")\n",
    "            return\n",
    "        record = records[0]\n",
    "        room = Room().create_from_record(record)\n",
    "        room.print_full()\n",
    "        return room\n",
    "    except mysql.connector.Error as err:\n",
    "        print(err)"
   ]
  },
  {
   "cell_type": "code",
   "execution_count": 16,
   "metadata": {},
   "outputs": [],
   "source": [
    "def show_room_records(cursor, query):\n",
    "    try:\n",
    "        cursor.execute(query)\n",
    "        records = cursor.fetchall()\n",
    "        if cursor.rowcount == 0:\n",
    "            print(\"No Matching Records\")\n",
    "            return\n",
    "        print_room_header()\n",
    "        for record in records:\n",
    "            room = Room().create_from_record(record)\n",
    "            room.print_all()\n",
    "        return records\n",
    "    except mysql.connector.Error as err:\n",
    "        print(err)"
   ]
  },
  {
   "cell_type": "code",
   "execution_count": 17,
   "metadata": {},
   "outputs": [],
   "source": [
    "def get_and_print_room_by_no(cursor):\n",
    "    room_no = int(input(\"Enter the room no: \"))\n",
    "    query = \"select * from {0} where room_no={1}\".format(ROOMS_TABLE_NAME, room_no)\n",
    "    room = show_room_record(cursor, query)\n",
    "    return room\n"
   ]
  },
  {
   "cell_type": "code",
   "execution_count": 18,
   "metadata": {},
   "outputs": [],
   "source": [
    "def edit_room_by_room_no(database, cursor):\n",
    "    room = get_and_print_room_by_no(cursor)\n",
    "    if room is not None:\n",
    "        query = \"update {0} set\".format(ROOMS_TABLE_NAME)\n",
    "        print(\"Input new values (leave blank to keep previous value)\")\n",
    "        room_no = input(\"Enter new room no: \")\n",
    "        if len(room_no) > 0:\n",
    "            query += \" room_no={0},\".format(room_no)\n",
    "        floor = input(\"Enter new floor: \")\n",
    "        if len(floor) > 0:\n",
    "            query += \" floor='{0}',\".format(floor)\n",
    "        beds = input(\"Enter number of beds: \")\n",
    "        if len(beds) > 0:\n",
    "            query += \" beds={0},\".format(beds)\n",
    "        query = query[0:-1] + \" where id={0}\".format(room.room_id)\n",
    "        confirm = input(\"Confirm Update (Y/N): \").lower()\n",
    "        if confirm == 'y':\n",
    "            cursor.execute(query)\n",
    "            database.commit()\n",
    "            print(\"Operation Successful\")\n",
    "        else:\n",
    "            print(\"Operation Cancelled\")\n",
    "\n"
   ]
  },
  {
   "cell_type": "code",
   "execution_count": 19,
   "metadata": {},
   "outputs": [],
   "source": [
    "def change_room_status(database, cursor, room_id, available):\n",
    "    query = \"update {0} set available={1} where id={2}\".format(ROOMS_TABLE_NAME, available, room_id)\n",
    "    cursor.execute(query)\n",
    "    database.commit()\n"
   ]
  },
  {
   "cell_type": "code",
   "execution_count": 20,
   "metadata": {},
   "outputs": [],
   "source": [
    "def delete_room_by_room_no(database, cursor):\n",
    "    room = get_and_print_room_by_no(cursor)\n",
    "    if room is not None:\n",
    "        confirm = input(\"Confirm Deletion (Y/N): \").lower()\n",
    "        if confirm == 'y':\n",
    "            query = \"delete from {0} where id={1}\".format(ROOMS_TABLE_NAME, room.room_id)\n",
    "            cursor.execute(query)\n",
    "            database.commit()\n",
    "            print(\"Operation Successful\")\n",
    "        else:\n",
    "            print(\"Operation Cancelled\")\n"
   ]
  },
  {
   "cell_type": "code",
   "execution_count": 21,
   "metadata": {},
   "outputs": [],
   "source": [
    "def room_menu(database, cursor):\n",
    "    while True:\n",
    "        print()\n",
    "        print(\"============================\")\n",
    "        print(\"==========Room Menu=========\")\n",
    "        print(\"============================\")\n",
    "        print()\n",
    "\n",
    "        print(\"1. Add new room\")\n",
    "        print(\"2. Get room details by room no\")\n",
    "        print(\"3. Find available rooms by number of beds\")\n",
    "        print(\"4. Edit Room details\")\n",
    "        print(\"5. Delete room\")\n",
    "        print(\"6. View all rooms\")\n",
    "        print(\"0. Go Back\")\n",
    "        choice = int(input(\"Enter your choice: \"))\n",
    "        if choice == 1:\n",
    "            add_room(database, cursor)\n",
    "        elif choice == 2:\n",
    "            room_no = int(input(\"Enter the room no: \"))\n",
    "            query = \"select * from {0} where room_no={1}\".format(ROOMS_TABLE_NAME, room_no)\n",
    "            show_room_records(cursor, query)\n",
    "        elif choice == 3:\n",
    "            beds = int(input(\"Enter number of beds required: \"))\n",
    "            query = \"select * from {0} where beds={1}\".format(ROOMS_TABLE_NAME, beds)\n",
    "            show_room_records(cursor, query)\n",
    "        elif choice == 4:\n",
    "            edit_room_by_room_no(database, cursor)\n",
    "        elif choice == 5:\n",
    "            delete_room_by_room_no(database, cursor)\n",
    "        elif choice == 6:\n",
    "            query = \"select * from {0}\".format(ROOMS_TABLE_NAME)\n",
    "            show_room_records(cursor, query)\n",
    "        elif choice == 0:\n",
    "            break\n",
    "        else:\n",
    "            print(\"Invalid choice (Press 0 to go back)\")\n"
   ]
  },
  {
   "cell_type": "code",
   "execution_count": 22,
   "metadata": {},
   "outputs": [],
   "source": [
    "CUSTOMER_TABLE_NAME = \"customers\""
   ]
  },
  {
   "cell_type": "code",
   "execution_count": 23,
   "metadata": {},
   "outputs": [],
   "source": [
    "class Customer:\n",
    "    def __init__(self):\n",
    "        self.customer_id = 0\n",
    "        self.name = \"\"\n",
    "        self.address = \"\"\n",
    "        self.phone = \"\"\n",
    "        self.room_no = \"0\"\n",
    "        self.entry_date = \"\"\n",
    "        self.checkout_date = \"\"\n",
    "\n",
    "    def create(self, customer_id, name, address, phone, room_no, entry_date, checkout_date):\n",
    "        self.customer_id = customer_id\n",
    "        self.name = name\n",
    "        self.address = address\n",
    "        self.phone = phone\n",
    "        self.room_no = room_no\n",
    "        self.entry_date = entry_date\n",
    "        self.checkout_date = checkout_date\n",
    "        return self\n",
    "\n",
    "    def create_from_record(self, record):\n",
    "        self.customer_id = record['id']\n",
    "        self.name = record['name']\n",
    "        self.address = record['address']\n",
    "        self.phone = record['phone']\n",
    "        self.room_no = record['room_no']\n",
    "        self.entry_date = record['entry']\n",
    "        self.checkout_date = record['checkout']\n",
    "        return self\n",
    "\n",
    "    def print_all(self):\n",
    "        print(str(self.customer_id).ljust(3),\n",
    "              self.name[0:15].ljust(15),\n",
    "              self.address[0:15].ljust(15),\n",
    "              self.phone.ljust(15),\n",
    "              str(self.room_no).ljust(10),\n",
    "              self.entry_date.strftime(\"%d-%b-%y\").ljust(15),\n",
    "              (self.checkout_date.strftime(\"%d %b %y\") if self.checkout_date is not None else \"None\").ljust(15))\n",
    "\n",
    "    def print_full(self):\n",
    "        print_bar()\n",
    "        print(\"Customer #\", self.customer_id)\n",
    "        print(\"Name: \", self.name)\n",
    "        print(\"Address: \", self.address)\n",
    "        print(\"Phone: \", self.phone)\n",
    "        print(\"Checked in to room #\", self.room_no, \" on \", self.entry_date.strftime(\"%d %b %y\"))\n",
    "        print(\"Checkout: \", self.checkout_date.strftime(\"%d %b %y\") if self.checkout_date is not None else None)\n",
    "        print_bar()\n"
   ]
  },
  {
   "cell_type": "code",
   "execution_count": 24,
   "metadata": {},
   "outputs": [],
   "source": [
    "def create_customer(room_no):\n",
    "    customer_id = None\n",
    "    name = input(\"Enter the name: \")\n",
    "    address = input(\"Enter the address: \")\n",
    "    phone = input(\"Enter the phone: \")\n",
    "    entry_date = datetime.now()\n",
    "    return Customer().create(customer_id, name, address, phone, room_no, entry_date, None)\n"
   ]
  },
  {
   "cell_type": "code",
   "execution_count": 25,
   "metadata": {},
   "outputs": [],
   "source": [
    "def print_customer_header():\n",
    "    print(\"=\"*100)\n",
    "    print(\"id\".ljust(3),\n",
    "          \"name\".ljust(15),\n",
    "          \"address\".ljust(15),\n",
    "          \"phone\".ljust(15),\n",
    "          \"room no\".ljust(10),\n",
    "          \"entry\".ljust(15),\n",
    "          \"check out\".ljust(15))\n",
    "    print(\"=\"*100)"
   ]
  },
  {
   "cell_type": "code",
   "execution_count": 26,
   "metadata": {},
   "outputs": [],
   "source": [
    "def create_customer_table(database):\n",
    "    cursor = database.cursor()\n",
    "    cursor.execute(\"DROP table if exists {0}\".format(CUSTOMER_TABLE_NAME))\n",
    "    cursor.execute(\"create table {0} (\"\n",
    "                   \"id int primary key auto_increment,\"\n",
    "                   \"name varchar(20),\"\n",
    "                   \"address varchar(50),\"\n",
    "                   \"phone varchar(10),\"\n",
    "                   \"room_no int,\"\n",
    "                   \"entry datetime,\"\n",
    "                   \"checkout datetime)\".format(CUSTOMER_TABLE_NAME))\n"
   ]
  },
  {
   "cell_type": "code",
   "execution_count": 27,
   "metadata": {},
   "outputs": [],
   "source": [
    "NUMBER_OF_RECORDS_PER_PAGE = 10\n"
   ]
  },
  {
   "cell_type": "code",
   "execution_count": 28,
   "metadata": {},
   "outputs": [],
   "source": [
    "def add_customer(database, cursor):\n",
    "    room = get_and_print_room_by_no(cursor)\n",
    "    if room is not None:\n",
    "        customer = create_customer(room.room_no)\n",
    "        confirm = input(\"Complete the operation? (Y/N) \").lower()\n",
    "        if confirm == 'y':\n",
    "            query = \"insert into {0}(name, address, phone, room_no, entry) values('{1}','{2}','{3}',{4},'{5}')\". \\\n",
    "                format(CUSTOMER_TABLE_NAME, customer.name, customer.address, customer.phone,\n",
    "                       customer.room_no, customer.entry_date.strftime(\"%Y-%m-%d %H:%M:%S\"))\n",
    "            try:\n",
    "                cursor.execute(query)\n",
    "                database.commit()\n",
    "            except mysql.connector.Error:\n",
    "                create_customer_table(database)\n",
    "                cursor.execute(query)\n",
    "                database.commit()\n",
    "            change_room_status(database, cursor, room.room_id, False)\n",
    "            print(\"Operation Successful\")\n",
    "        else:\n",
    "            print(\"Operation Canceled\")\n"
   ]
  },
  {
   "cell_type": "code",
   "execution_count": 29,
   "metadata": {},
   "outputs": [],
   "source": [
    "def show_customer_records(cursor, query):\n",
    "    try:\n",
    "        cursor.execute(query)\n",
    "        records = cursor.fetchall()\n",
    "        if cursor.rowcount == 0:\n",
    "            print(\"No Matching Records\")\n",
    "            return\n",
    "        print_customer_header()\n",
    "        for record in records:\n",
    "            customer = Customer().create_from_record(record)\n",
    "            customer.print_all()\n",
    "        return records\n",
    "    except mysql.connector.Error as err:\n",
    "        print(err)\n"
   ]
  },
  {
   "cell_type": "code",
   "execution_count": 30,
   "metadata": {},
   "outputs": [],
   "source": [
    "def show_customer_record(cursor, query):\n",
    "    try:\n",
    "        cursor.execute(query)\n",
    "        records = cursor.fetchall()\n",
    "        if cursor.rowcount == 0:\n",
    "            print(\"No Matching Records\")\n",
    "            return\n",
    "        record = records[0]\n",
    "        customer = Customer().create_from_record(record)\n",
    "        customer.print_full()\n",
    "        return customer\n",
    "    except mysql.connector.Error as err:\n",
    "        print(err)"
   ]
  },
  {
   "cell_type": "code",
   "execution_count": 31,
   "metadata": {},
   "outputs": [],
   "source": [
    "def get_and_print_customer_by_room_no(cursor):\n",
    "    room = get_and_print_room_by_no(cursor)\n",
    "    if room is not None:\n",
    "        query = \"select * from {0} where room_no={1} order by id desc limit 1\".format(CUSTOMER_TABLE_NAME, room.room_no)\n",
    "        customer = show_customer_record(cursor, query)\n",
    "        return room, customer\n",
    "    return None, None\n"
   ]
  },
  {
   "cell_type": "code",
   "execution_count": 32,
   "metadata": {},
   "outputs": [],
   "source": [
    "def check_out(database, cursor):\n",
    "    room, customer = get_and_print_customer_by_room_no(cursor)\n",
    "    if room is not None and customer is not None:\n",
    "        confirm = input(\"Confirm checkout? (Y/N): \")\n",
    "        if confirm == 'y':\n",
    "            checkout = datetime.now()\n",
    "            query = \"update {0} set checkout='{1}' where id={2}\".\\\n",
    "                format(CUSTOMER_TABLE_NAME, checkout.strftime(\"%Y-%m-%d %H:%M:%S\"), customer.customer_id)\n",
    "            cursor.execute(query)\n",
    "            database.commit()\n",
    "            change_room_status(database, cursor,room.room_id, True)\n",
    "            print(\"Operation Successful\")\n",
    "        else:\n",
    "            print(\"Operation Cancelled\")"
   ]
  },
  {
   "cell_type": "code",
   "execution_count": 33,
   "metadata": {},
   "outputs": [],
   "source": [
    "def edit_customer_by_room_no(database, cursor):\n",
    "    room, customer = get_and_print_customer_by_room_no(cursor)\n",
    "    if room is not None and customer is not None:\n",
    "        query = \"update {0} set\".format(CUSTOMER_TABLE_NAME)\n",
    "        print(\"Input new values (leave blank to keep previous value)\")\n",
    "        name = input(\"Enter new name: \")\n",
    "        if len(name) > 0:\n",
    "            query += \" name='{0}',\".format(name)\n",
    "        address = input(\"Enter new address: \")\n",
    "        if len(address) > 0:\n",
    "            query += \" address='{0}',\".format(address)\n",
    "        phone = input(\"Enter number of phone: \")\n",
    "        if len(phone) > 0:\n",
    "            query += \" phone='{0}',\".format(phone)\n",
    "        query = query[0:-1] + \" where id={0}\".format(customer.customer_id)\n",
    "        confirm = input(\"Confirm Update (Y/N): \").lower()\n",
    "        if confirm == 'y':\n",
    "            cursor.execute(query)\n",
    "            database.commit()\n",
    "            print(\"Operation Successful\")\n",
    "        else:\n",
    "            print(\"Operation Cancelled\")"
   ]
  },
  {
   "cell_type": "code",
   "execution_count": 34,
   "metadata": {},
   "outputs": [],
   "source": [
    "def delete_customer_by_room_no(database, cursor):\n",
    "    room, customer = get_and_print_customer_by_room_no(cursor)\n",
    "    if room is not None and customer is not None:\n",
    "        confirm = input(\"Confirm Deletion (Y/N): \").lower()\n",
    "        if confirm == 'y':\n",
    "            query = \"delete from {0} where id={1}\".format(CUSTOMER_TABLE_NAME, customer.customer_id)\n",
    "            cursor.execute(query)\n",
    "            database.commit()\n",
    "            print(\"Operation Successful\")\n",
    "        else:\n",
    "            print(\"Operation Cancelled\")\n"
   ]
  },
  {
   "cell_type": "code",
   "execution_count": 35,
   "metadata": {},
   "outputs": [],
   "source": [
    "def customer_menu(database, cursor):\n",
    "    while True:\n",
    "        print()\n",
    "        print(\"==============================\")\n",
    "        print(\"==========Customer Menu=========\")\n",
    "        print(\"==============================\")\n",
    "        print()\n",
    "        print(\"1. New Customer\")\n",
    "        print(\"2. Show Customer Details by name\")\n",
    "        print(\"3. Show customer details by customer_id\")\n",
    "        print(\"4. Show customer details by address\")\n",
    "        print(\"5. Show customer details by phone number\")\n",
    "        print(\"6. Show customer details by room no\")\n",
    "        print(\"7. Show customer details by check in date\")\n",
    "        print(\"8. Show current list of customers\")\n",
    "        print(\"9. Check out\")\n",
    "        print(\"10. Edit customer Details\")\n",
    "        print(\"11. Delete Customer record\")\n",
    "        print(\"12. View all customers\")\n",
    "        print(\"0. Go Back\")\n",
    "        choice = int(input(\"Enter your choice: \"))\n",
    "        if choice == 1:\n",
    "            add_customer(database, cursor)\n",
    "        elif choice == 2:\n",
    "            name = input(\"Enter the name: \").lower()\n",
    "            query = \"select * from {0} where name like '%{1}%'\".format(CUSTOMER_TABLE_NAME, name)\n",
    "            show_customer_records(cursor, query)\n",
    "        elif choice == 3:\n",
    "            customer_id = input(\"Enter the customer id: \")\n",
    "            query = \"select * from {0} where id = {1}\".format(CUSTOMER_TABLE_NAME, customer_id)\n",
    "            show_customer_record(cursor, query)\n",
    "        elif choice == 4:\n",
    "            address = input(\"Enter the address: \").lower()\n",
    "            query = \"select * from {0} where address like '%{1}%'\".format(CUSTOMER_TABLE_NAME, address)\n",
    "            show_customer_records(cursor, query)\n",
    "        elif choice == 5:\n",
    "            phone = input(\"Enter the phone number: \")\n",
    "            query = \"select * from {0} where phone like '%{1}%'\".format(CUSTOMER_TABLE_NAME, phone)\n",
    "            show_customer_records(cursor, query)\n",
    "        elif choice == 6:\n",
    "            room_no = input(\"Enter the room_no: \")\n",
    "            query = \"select * from {0} where room_no = {1}\".format(CUSTOMER_TABLE_NAME, room_no)\n",
    "            show_customer_record(cursor, query)\n",
    "        elif choice == 7:\n",
    "            print(\"Enter the check in date: \")\n",
    "            day = int(input(\"day of month: \"))\n",
    "            month = int(input(\"month: \"))\n",
    "            year = int(input(\"year: \"))\n",
    "            query = \"select * from {0} where date(entry) = '{1}-{2}-{3}'\".format(CUSTOMER_TABLE_NAME, year, month, day)\n",
    "            show_customer_records(cursor, query)\n",
    "        elif choice == 8:\n",
    "            query = \"select * from {0} where checkout is null\".format(CUSTOMER_TABLE_NAME)\n",
    "            show_customer_records(cursor, query)\n",
    "        elif choice == 9:\n",
    "            check_out(database, cursor)\n",
    "        elif choice == 10:\n",
    "            edit_customer_by_room_no(database, cursor)\n",
    "        elif choice == 11:\n",
    "            delete_customer_by_room_no(database, cursor)\n",
    "        elif choice == 12:\n",
    "            query = \"select * from {0}\".format(CUSTOMER_TABLE_NAME)\n",
    "            show_customer_records(cursor, query)\n",
    "        elif choice == 0:\n",
    "            break\n",
    "        else:\n",
    "            print(\"Invalid choice (Press 0 to go back)\")"
   ]
  },
  {
   "cell_type": "code",
   "execution_count": 38,
   "metadata": {},
   "outputs": [
    {
     "name": "stdout",
     "output_type": "stream",
     "text": [
      "The Database does not exist or not accessible.\n"
     ]
    },
    {
     "ename": "SystemExit",
     "evalue": "1",
     "output_type": "error",
     "traceback": [
      "An exception has occurred, use %tb to see the full traceback.\n",
      "\u001b[1;31mSystemExit\u001b[0m\u001b[1;31m:\u001b[0m 1\n"
     ]
    }
   ],
   "source": [
    "if __name__ == '__main__':\n",
    "    database, cursor = get_database()\n",
    "    if database is None:\n",
    "        print(\"The Database does not exist or not accessible.\")\n",
    "        exit(1)\n",
    "    while True:\n",
    "        print()\n",
    "        print_center(\"==============================\")\n",
    "        print_center(\"=====xyz Hotels=====\")\n",
    "        print_center(\"==============================\")\n",
    "        print_center(\"1. Manage Rooms\")\n",
    "        print_center(\"2. Manage Customers\")\n",
    "        print_center(\"0. Exit\")\n",
    "        print()\n",
    "        choice = int(input_center(\"Enter your choice: \"))\n",
    "        if choice == 1:\n",
    "            room_menu(database, cursor)\n",
    "        elif choice == 2:\n",
    "            customer_menu(database, cursor)\n",
    "        elif choice == 0:\n",
    "            break\n",
    "        else:\n",
    "            print(\"Invalid choice (Press 0 to exit)\")\n",
    "    print_center(\"GoodBye\")"
   ]
  },
  {
   "cell_type": "code",
   "execution_count": null,
   "metadata": {},
   "outputs": [],
   "source": []
  }
 ],
 "metadata": {
  "kernelspec": {
   "display_name": "Python 3",
   "language": "python",
   "name": "python3"
  },
  "language_info": {
   "codemirror_mode": {
    "name": "ipython",
    "version": 3
   },
   "file_extension": ".py",
   "mimetype": "text/x-python",
   "name": "python",
   "nbconvert_exporter": "python",
   "pygments_lexer": "ipython3",
   "version": "3.8.3"
  }
 },
 "nbformat": 4,
 "nbformat_minor": 4
}
